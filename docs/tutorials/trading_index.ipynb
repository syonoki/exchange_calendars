{
 "cells": [
  {
   "cell_type": "markdown",
   "metadata": {},
   "source": [
    "# `trading_index`"
   ]
  },
  {
   "cell_type": "markdown",
   "metadata": {},
   "source": [
    "This tutorial shows all the ins and outs of the calendars' `trading_index` method. (For other calendar methods see the [calendar_methods.ipynb](./calendar_methods.ipynb) tutorial.)\n",
    "\n",
    "The [What does it do?](#What-does-it-do?) section explains basic usage. The following sections then explore the method's arguments and options:\n",
    "\n",
    "* [`intervals`](#intervals)\n",
    "* [`period`](#period)\n",
    "* [`closed`](#closed)\n",
    "* [`force_close`, `force_break_close` and `force`](#force_close,-force_break_close-and-force)\n",
    "* [`ignore_breaks`](#ignore_breaks)\n",
    "\n",
    "The final section covers [overlapping indices](#Overlapping-indices)."
   ]
  },
  {
   "cell_type": "code",
   "execution_count": 2,
   "metadata": {},
   "outputs": [],
   "source": [
    "# setup\n",
    "import exchange_calendars as xcals\n",
    "import pandas as pd\n",
    "\n",
    "hkg = xcals.get_calendar(\"XHKG\") # Hong Kong Stock Exchange\n",
    "start, end = \"2021-12-23\", \"2021-12-28\""
   ]
  },
  {
   "cell_type": "code",
   "execution_count": 3,
   "metadata": {},
   "outputs": [
    {
     "data": {
      "text/html": [
       "<div>\n",
       "<style scoped>\n",
       "    .dataframe tbody tr th:only-of-type {\n",
       "        vertical-align: middle;\n",
       "    }\n",
       "\n",
       "    .dataframe tbody tr th {\n",
       "        vertical-align: top;\n",
       "    }\n",
       "\n",
       "    .dataframe thead th {\n",
       "        text-align: right;\n",
       "    }\n",
       "</style>\n",
       "<table border=\"1\" class=\"dataframe\">\n",
       "  <thead>\n",
       "    <tr style=\"text-align: right;\">\n",
       "      <th></th>\n",
       "      <th>market_open</th>\n",
       "      <th>break_start</th>\n",
       "      <th>break_end</th>\n",
       "      <th>market_close</th>\n",
       "    </tr>\n",
       "  </thead>\n",
       "  <tbody>\n",
       "    <tr>\n",
       "      <th>2021-12-23 00:00:00+00:00</th>\n",
       "      <td>2021-12-23 01:30:00</td>\n",
       "      <td>2021-12-23 04:00:00</td>\n",
       "      <td>2021-12-23 05:00:00</td>\n",
       "      <td>2021-12-23 08:00:00</td>\n",
       "    </tr>\n",
       "    <tr>\n",
       "      <th>2021-12-24 00:00:00+00:00</th>\n",
       "      <td>2021-12-24 01:30:00</td>\n",
       "      <td>NaT</td>\n",
       "      <td>NaT</td>\n",
       "      <td>2021-12-24 04:00:00</td>\n",
       "    </tr>\n",
       "    <tr>\n",
       "      <th>2021-12-28 00:00:00+00:00</th>\n",
       "      <td>2021-12-28 01:30:00</td>\n",
       "      <td>2021-12-28 04:00:00</td>\n",
       "      <td>2021-12-28 05:00:00</td>\n",
       "      <td>2021-12-28 08:00:00</td>\n",
       "    </tr>\n",
       "  </tbody>\n",
       "</table>\n",
       "</div>"
      ],
      "text/plain": [
       "                                  market_open         break_start  \\\n",
       "2021-12-23 00:00:00+00:00 2021-12-23 01:30:00 2021-12-23 04:00:00   \n",
       "2021-12-24 00:00:00+00:00 2021-12-24 01:30:00                 NaT   \n",
       "2021-12-28 00:00:00+00:00 2021-12-28 01:30:00 2021-12-28 04:00:00   \n",
       "\n",
       "                                    break_end        market_close  \n",
       "2021-12-23 00:00:00+00:00 2021-12-23 05:00:00 2021-12-23 08:00:00  \n",
       "2021-12-24 00:00:00+00:00                 NaT 2021-12-24 04:00:00  \n",
       "2021-12-28 00:00:00+00:00 2021-12-28 05:00:00 2021-12-28 08:00:00  "
      ]
     },
     "execution_count": 3,
     "metadata": {},
     "output_type": "execute_result"
    }
   ],
   "source": [
    "# for reference\n",
    "schedule = hkg.schedule.loc[start:end]\n",
    "schedule"
   ]
  },
  {
   "cell_type": "markdown",
   "metadata": {},
   "source": [
    "### What does it do?"
   ]
  },
  {
   "cell_type": "markdown",
   "metadata": {},
   "source": [
    "`trading_index` creates a trading index at a given period over a range of sessions."
   ]
  },
  {
   "cell_type": "code",
   "execution_count": 4,
   "metadata": {},
   "outputs": [
    {
     "data": {
      "text/plain": [
       "DatetimeIndex(['2021-12-23 01:30:00+00:00', '2021-12-23 02:00:00+00:00',\n",
       "               '2021-12-23 02:30:00+00:00', '2021-12-23 03:00:00+00:00',\n",
       "               '2021-12-23 03:30:00+00:00', '2021-12-23 05:00:00+00:00',\n",
       "               '2021-12-23 05:30:00+00:00', '2021-12-23 06:00:00+00:00',\n",
       "               '2021-12-23 06:30:00+00:00', '2021-12-23 07:00:00+00:00',\n",
       "               '2021-12-23 07:30:00+00:00', '2021-12-24 01:30:00+00:00',\n",
       "               '2021-12-24 02:00:00+00:00', '2021-12-24 02:30:00+00:00',\n",
       "               '2021-12-24 03:00:00+00:00', '2021-12-24 03:30:00+00:00',\n",
       "               '2021-12-28 01:30:00+00:00', '2021-12-28 02:00:00+00:00',\n",
       "               '2021-12-28 02:30:00+00:00', '2021-12-28 03:00:00+00:00',\n",
       "               '2021-12-28 03:30:00+00:00', '2021-12-28 05:00:00+00:00',\n",
       "               '2021-12-28 05:30:00+00:00', '2021-12-28 06:00:00+00:00',\n",
       "               '2021-12-28 06:30:00+00:00', '2021-12-28 07:00:00+00:00',\n",
       "               '2021-12-28 07:30:00+00:00'],\n",
       "              dtype='datetime64[ns, UTC]', freq=None)"
      ]
     },
     "execution_count": 4,
     "metadata": {},
     "output_type": "execute_result"
    }
   ],
   "source": [
    "hkg.trading_index(start, end, \"30min\", intervals=False)"
   ]
  },
  {
   "cell_type": "markdown",
   "metadata": {},
   "source": [
    "Or over a single session, if `start` and `end` are passed as the same session."
   ]
  },
  {
   "cell_type": "code",
   "execution_count": 5,
   "metadata": {},
   "outputs": [
    {
     "data": {
      "text/plain": [
       "DatetimeIndex(['2021-12-23 01:30:00+00:00', '2021-12-23 02:00:00+00:00',\n",
       "               '2021-12-23 02:30:00+00:00', '2021-12-23 03:00:00+00:00',\n",
       "               '2021-12-23 03:30:00+00:00', '2021-12-23 05:00:00+00:00',\n",
       "               '2021-12-23 05:30:00+00:00', '2021-12-23 06:00:00+00:00',\n",
       "               '2021-12-23 06:30:00+00:00', '2021-12-23 07:00:00+00:00',\n",
       "               '2021-12-23 07:30:00+00:00'],\n",
       "              dtype='datetime64[ns, UTC]', freq=None)"
      ]
     },
     "execution_count": 5,
     "metadata": {},
     "output_type": "execute_result"
    }
   ],
   "source": [
    "hkg.trading_index(start=start, end=start, period=\"30min\", intervals=False)"
   ]
  },
  {
   "cell_type": "markdown",
   "metadata": {},
   "source": [
    "### `intervals`"
   ]
  },
  {
   "cell_type": "markdown",
   "metadata": {},
   "source": [
    "By passing `intervals` as False the index can be output as a `DatetimeIndex`, as shown above. Although by default the index is output as an `IntervalIndex`."
   ]
  },
  {
   "cell_type": "code",
   "execution_count": 6,
   "metadata": {},
   "outputs": [
    {
     "data": {
      "text/plain": [
       "IntervalIndex([[2021-12-23 01:30:00, 2021-12-23 02:00:00), [2021-12-23 02:00:00, 2021-12-23 02:30:00), [2021-12-23 02:30:00, 2021-12-23 03:00:00), [2021-12-23 03:00:00, 2021-12-23 03:30:00), [2021-12-23 03:30:00, 2021-12-23 04:00:00) ... [2021-12-23 05:30:00, 2021-12-23 06:00:00), [2021-12-23 06:00:00, 2021-12-23 06:30:00), [2021-12-23 06:30:00, 2021-12-23 07:00:00), [2021-12-23 07:00:00, 2021-12-23 07:30:00), [2021-12-23 07:30:00, 2021-12-23 08:00:00)],\n",
       "              closed='left',\n",
       "              dtype='interval[datetime64[ns, UTC]]')"
      ]
     },
     "execution_count": 6,
     "metadata": {},
     "output_type": "execute_result"
    }
   ],
   "source": [
    "index = hkg.trading_index(start, start, \"30min\")\n",
    "index"
   ]
  },
  {
   "cell_type": "markdown",
   "metadata": {},
   "source": [
    "Let's make that a bit more readable by setting it to the index of a `DataFrame`, and have columns showing the index's left and right sides."
   ]
  },
  {
   "cell_type": "code",
   "execution_count": 7,
   "metadata": {},
   "outputs": [
    {
     "data": {
      "text/html": [
       "<div>\n",
       "<style scoped>\n",
       "    .dataframe tbody tr th:only-of-type {\n",
       "        vertical-align: middle;\n",
       "    }\n",
       "\n",
       "    .dataframe tbody tr th {\n",
       "        vertical-align: top;\n",
       "    }\n",
       "\n",
       "    .dataframe thead th {\n",
       "        text-align: right;\n",
       "    }\n",
       "</style>\n",
       "<table border=\"1\" class=\"dataframe\">\n",
       "  <thead>\n",
       "    <tr style=\"text-align: right;\">\n",
       "      <th></th>\n",
       "      <th>left_side</th>\n",
       "      <th>right_side</th>\n",
       "    </tr>\n",
       "    <tr>\n",
       "      <th>IntervalIndex</th>\n",
       "      <th></th>\n",
       "      <th></th>\n",
       "    </tr>\n",
       "  </thead>\n",
       "  <tbody>\n",
       "    <tr>\n",
       "      <th>[2021-12-23 01:30:00, 2021-12-23 02:00:00)</th>\n",
       "      <td>2021-12-23 01:30:00+00:00</td>\n",
       "      <td>2021-12-23 02:00:00+00:00</td>\n",
       "    </tr>\n",
       "    <tr>\n",
       "      <th>[2021-12-23 02:00:00, 2021-12-23 02:30:00)</th>\n",
       "      <td>2021-12-23 02:00:00+00:00</td>\n",
       "      <td>2021-12-23 02:30:00+00:00</td>\n",
       "    </tr>\n",
       "    <tr>\n",
       "      <th>[2021-12-23 02:30:00, 2021-12-23 03:00:00)</th>\n",
       "      <td>2021-12-23 02:30:00+00:00</td>\n",
       "      <td>2021-12-23 03:00:00+00:00</td>\n",
       "    </tr>\n",
       "    <tr>\n",
       "      <th>[2021-12-23 03:00:00, 2021-12-23 03:30:00)</th>\n",
       "      <td>2021-12-23 03:00:00+00:00</td>\n",
       "      <td>2021-12-23 03:30:00+00:00</td>\n",
       "    </tr>\n",
       "    <tr>\n",
       "      <th>[2021-12-23 03:30:00, 2021-12-23 04:00:00)</th>\n",
       "      <td>2021-12-23 03:30:00+00:00</td>\n",
       "      <td>2021-12-23 04:00:00+00:00</td>\n",
       "    </tr>\n",
       "    <tr>\n",
       "      <th>[2021-12-23 05:00:00, 2021-12-23 05:30:00)</th>\n",
       "      <td>2021-12-23 05:00:00+00:00</td>\n",
       "      <td>2021-12-23 05:30:00+00:00</td>\n",
       "    </tr>\n",
       "    <tr>\n",
       "      <th>[2021-12-23 05:30:00, 2021-12-23 06:00:00)</th>\n",
       "      <td>2021-12-23 05:30:00+00:00</td>\n",
       "      <td>2021-12-23 06:00:00+00:00</td>\n",
       "    </tr>\n",
       "    <tr>\n",
       "      <th>[2021-12-23 06:00:00, 2021-12-23 06:30:00)</th>\n",
       "      <td>2021-12-23 06:00:00+00:00</td>\n",
       "      <td>2021-12-23 06:30:00+00:00</td>\n",
       "    </tr>\n",
       "    <tr>\n",
       "      <th>[2021-12-23 06:30:00, 2021-12-23 07:00:00)</th>\n",
       "      <td>2021-12-23 06:30:00+00:00</td>\n",
       "      <td>2021-12-23 07:00:00+00:00</td>\n",
       "    </tr>\n",
       "    <tr>\n",
       "      <th>[2021-12-23 07:00:00, 2021-12-23 07:30:00)</th>\n",
       "      <td>2021-12-23 07:00:00+00:00</td>\n",
       "      <td>2021-12-23 07:30:00+00:00</td>\n",
       "    </tr>\n",
       "    <tr>\n",
       "      <th>[2021-12-23 07:30:00, 2021-12-23 08:00:00)</th>\n",
       "      <td>2021-12-23 07:30:00+00:00</td>\n",
       "      <td>2021-12-23 08:00:00+00:00</td>\n",
       "    </tr>\n",
       "  </tbody>\n",
       "</table>\n",
       "</div>"
      ],
      "text/plain": [
       "                                                           left_side  \\\n",
       "IntervalIndex                                                          \n",
       "[2021-12-23 01:30:00, 2021-12-23 02:00:00) 2021-12-23 01:30:00+00:00   \n",
       "[2021-12-23 02:00:00, 2021-12-23 02:30:00) 2021-12-23 02:00:00+00:00   \n",
       "[2021-12-23 02:30:00, 2021-12-23 03:00:00) 2021-12-23 02:30:00+00:00   \n",
       "[2021-12-23 03:00:00, 2021-12-23 03:30:00) 2021-12-23 03:00:00+00:00   \n",
       "[2021-12-23 03:30:00, 2021-12-23 04:00:00) 2021-12-23 03:30:00+00:00   \n",
       "[2021-12-23 05:00:00, 2021-12-23 05:30:00) 2021-12-23 05:00:00+00:00   \n",
       "[2021-12-23 05:30:00, 2021-12-23 06:00:00) 2021-12-23 05:30:00+00:00   \n",
       "[2021-12-23 06:00:00, 2021-12-23 06:30:00) 2021-12-23 06:00:00+00:00   \n",
       "[2021-12-23 06:30:00, 2021-12-23 07:00:00) 2021-12-23 06:30:00+00:00   \n",
       "[2021-12-23 07:00:00, 2021-12-23 07:30:00) 2021-12-23 07:00:00+00:00   \n",
       "[2021-12-23 07:30:00, 2021-12-23 08:00:00) 2021-12-23 07:30:00+00:00   \n",
       "\n",
       "                                                          right_side  \n",
       "IntervalIndex                                                         \n",
       "[2021-12-23 01:30:00, 2021-12-23 02:00:00) 2021-12-23 02:00:00+00:00  \n",
       "[2021-12-23 02:00:00, 2021-12-23 02:30:00) 2021-12-23 02:30:00+00:00  \n",
       "[2021-12-23 02:30:00, 2021-12-23 03:00:00) 2021-12-23 03:00:00+00:00  \n",
       "[2021-12-23 03:00:00, 2021-12-23 03:30:00) 2021-12-23 03:30:00+00:00  \n",
       "[2021-12-23 03:30:00, 2021-12-23 04:00:00) 2021-12-23 04:00:00+00:00  \n",
       "[2021-12-23 05:00:00, 2021-12-23 05:30:00) 2021-12-23 05:30:00+00:00  \n",
       "[2021-12-23 05:30:00, 2021-12-23 06:00:00) 2021-12-23 06:00:00+00:00  \n",
       "[2021-12-23 06:00:00, 2021-12-23 06:30:00) 2021-12-23 06:30:00+00:00  \n",
       "[2021-12-23 06:30:00, 2021-12-23 07:00:00) 2021-12-23 07:00:00+00:00  \n",
       "[2021-12-23 07:00:00, 2021-12-23 07:30:00) 2021-12-23 07:30:00+00:00  \n",
       "[2021-12-23 07:30:00, 2021-12-23 08:00:00) 2021-12-23 08:00:00+00:00  "
      ]
     },
     "execution_count": 7,
     "metadata": {},
     "output_type": "execute_result"
    }
   ],
   "source": [
    "def show_as_df(index: pd.IntervalIndex) -> pd.DataFrame:\n",
    "    index.name = \"IntervalIndex\"\n",
    "    return pd.DataFrame(\n",
    "        dict(left_side=index.left, right_side=index.right),\n",
    "        index=index\n",
    "    )\n",
    "\n",
    "show_as_df(index)"
   ]
  },
  {
   "cell_type": "markdown",
   "metadata": {},
   "source": [
    "### `period`"
   ]
  },
  {
   "cell_type": "markdown",
   "metadata": {},
   "source": [
    "The trading index represents sessions and subsessions as a number of discrete periods of a given length.\n",
    "\n",
    "When output as an `IntervalIndex` each indice represents a discrete period."
   ]
  },
  {
   "cell_type": "code",
   "execution_count": 8,
   "metadata": {},
   "outputs": [
    {
     "data": {
      "text/plain": [
       "Interval('2021-12-23 01:30:00', '2021-12-23 02:00:00', closed='left')"
      ]
     },
     "execution_count": 8,
     "metadata": {},
     "output_type": "execute_result"
    }
   ],
   "source": [
    "index[0]"
   ]
  },
  {
   "cell_type": "markdown",
   "metadata": {},
   "source": [
    "The length of each period of the example above is 30 minutes."
   ]
  },
  {
   "cell_type": "code",
   "execution_count": 9,
   "metadata": {},
   "outputs": [
    {
     "data": {
      "text/plain": [
       "TimedeltaIndex(['0 days 00:30:00', '0 days 00:30:00', '0 days 00:30:00',\n",
       "                '0 days 00:30:00', '0 days 00:30:00', '0 days 00:30:00',\n",
       "                '0 days 00:30:00', '0 days 00:30:00', '0 days 00:30:00',\n",
       "                '0 days 00:30:00', '0 days 00:30:00'],\n",
       "               dtype='timedelta64[ns]', freq=None)"
      ]
     },
     "execution_count": 9,
     "metadata": {},
     "output_type": "execute_result"
    }
   ],
   "source": [
    "index.length"
   ]
  },
  {
   "cell_type": "markdown",
   "metadata": {},
   "source": [
    "The period length is defined by the `period` argument which can be passed as the third positional argument or as a keyword argument. `period` can take either a `pd.Timedelta` or a string representing a pandas frequency. All the following are valid inputs representing a period length of 1 hour."
   ]
  },
  {
   "cell_type": "code",
   "execution_count": 10,
   "metadata": {},
   "outputs": [],
   "source": [
    "periods = [\n",
    "    pd.Timedelta(hours=1),\n",
    "    pd.Timedelta(1, \"H\"),\n",
    "    pd.Timedelta(60, \"min\"),\n",
    "    pd.Timedelta(60, \"T\"),\n",
    "    \"1H\",\n",
    "    \"1h\",\n",
    "    \"60T\",\n",
    "    \"60min\",\n",
    "    \"3600s\"   \n",
    "]\n",
    "\n",
    "indexes = [ hkg.trading_index(start, start, period) for period in periods ]\n",
    "for i, index in enumerate(indexes):\n",
    "    pd.testing.assert_index_equal(index, indexes[i])"
   ]
  },
  {
   "cell_type": "code",
   "execution_count": 11,
   "metadata": {},
   "outputs": [
    {
     "data": {
      "text/html": [
       "<div>\n",
       "<style scoped>\n",
       "    .dataframe tbody tr th:only-of-type {\n",
       "        vertical-align: middle;\n",
       "    }\n",
       "\n",
       "    .dataframe tbody tr th {\n",
       "        vertical-align: top;\n",
       "    }\n",
       "\n",
       "    .dataframe thead th {\n",
       "        text-align: right;\n",
       "    }\n",
       "</style>\n",
       "<table border=\"1\" class=\"dataframe\">\n",
       "  <thead>\n",
       "    <tr style=\"text-align: right;\">\n",
       "      <th></th>\n",
       "      <th>left_side</th>\n",
       "      <th>right_side</th>\n",
       "    </tr>\n",
       "    <tr>\n",
       "      <th>IntervalIndex</th>\n",
       "      <th></th>\n",
       "      <th></th>\n",
       "    </tr>\n",
       "  </thead>\n",
       "  <tbody>\n",
       "    <tr>\n",
       "      <th>[2021-12-23 01:30:00, 2021-12-23 02:30:00)</th>\n",
       "      <td>2021-12-23 01:30:00+00:00</td>\n",
       "      <td>2021-12-23 02:30:00+00:00</td>\n",
       "    </tr>\n",
       "    <tr>\n",
       "      <th>[2021-12-23 02:30:00, 2021-12-23 03:30:00)</th>\n",
       "      <td>2021-12-23 02:30:00+00:00</td>\n",
       "      <td>2021-12-23 03:30:00+00:00</td>\n",
       "    </tr>\n",
       "    <tr>\n",
       "      <th>[2021-12-23 03:30:00, 2021-12-23 04:30:00)</th>\n",
       "      <td>2021-12-23 03:30:00+00:00</td>\n",
       "      <td>2021-12-23 04:30:00+00:00</td>\n",
       "    </tr>\n",
       "    <tr>\n",
       "      <th>[2021-12-23 05:00:00, 2021-12-23 06:00:00)</th>\n",
       "      <td>2021-12-23 05:00:00+00:00</td>\n",
       "      <td>2021-12-23 06:00:00+00:00</td>\n",
       "    </tr>\n",
       "    <tr>\n",
       "      <th>[2021-12-23 06:00:00, 2021-12-23 07:00:00)</th>\n",
       "      <td>2021-12-23 06:00:00+00:00</td>\n",
       "      <td>2021-12-23 07:00:00+00:00</td>\n",
       "    </tr>\n",
       "    <tr>\n",
       "      <th>[2021-12-23 07:00:00, 2021-12-23 08:00:00)</th>\n",
       "      <td>2021-12-23 07:00:00+00:00</td>\n",
       "      <td>2021-12-23 08:00:00+00:00</td>\n",
       "    </tr>\n",
       "  </tbody>\n",
       "</table>\n",
       "</div>"
      ],
      "text/plain": [
       "                                                           left_side  \\\n",
       "IntervalIndex                                                          \n",
       "[2021-12-23 01:30:00, 2021-12-23 02:30:00) 2021-12-23 01:30:00+00:00   \n",
       "[2021-12-23 02:30:00, 2021-12-23 03:30:00) 2021-12-23 02:30:00+00:00   \n",
       "[2021-12-23 03:30:00, 2021-12-23 04:30:00) 2021-12-23 03:30:00+00:00   \n",
       "[2021-12-23 05:00:00, 2021-12-23 06:00:00) 2021-12-23 05:00:00+00:00   \n",
       "[2021-12-23 06:00:00, 2021-12-23 07:00:00) 2021-12-23 06:00:00+00:00   \n",
       "[2021-12-23 07:00:00, 2021-12-23 08:00:00) 2021-12-23 07:00:00+00:00   \n",
       "\n",
       "                                                          right_side  \n",
       "IntervalIndex                                                         \n",
       "[2021-12-23 01:30:00, 2021-12-23 02:30:00) 2021-12-23 02:30:00+00:00  \n",
       "[2021-12-23 02:30:00, 2021-12-23 03:30:00) 2021-12-23 03:30:00+00:00  \n",
       "[2021-12-23 03:30:00, 2021-12-23 04:30:00) 2021-12-23 04:30:00+00:00  \n",
       "[2021-12-23 05:00:00, 2021-12-23 06:00:00) 2021-12-23 06:00:00+00:00  \n",
       "[2021-12-23 06:00:00, 2021-12-23 07:00:00) 2021-12-23 07:00:00+00:00  \n",
       "[2021-12-23 07:00:00, 2021-12-23 08:00:00) 2021-12-23 08:00:00+00:00  "
      ]
     },
     "execution_count": 11,
     "metadata": {},
     "output_type": "execute_result"
    }
   ],
   "source": [
    "show_as_df(index)"
   ]
  },
  {
   "cell_type": "markdown",
   "metadata": {},
   "source": [
    "The maximum `period` is one day, in which case the trading index is returned as a `DatetimeIndex` of sessions."
   ]
  },
  {
   "cell_type": "code",
   "execution_count": 12,
   "metadata": {},
   "outputs": [
    {
     "data": {
      "text/plain": [
       "DatetimeIndex(['2021-12-23 00:00:00+00:00', '2021-12-24 00:00:00+00:00',\n",
       "               '2021-12-28 00:00:00+00:00'],\n",
       "              dtype='datetime64[ns, UTC]', freq='C')"
      ]
     },
     "execution_count": 12,
     "metadata": {},
     "output_type": "execute_result"
    }
   ],
   "source": [
    "hkg.trading_index(start, end, \"1D\")"
   ]
  },
  {
   "cell_type": "markdown",
   "metadata": {},
   "source": [
    "At the other extreme, the period can be go all the way down to miliseconds to create a high frequency trading index."
   ]
  },
  {
   "cell_type": "code",
   "execution_count": 13,
   "metadata": {},
   "outputs": [
    {
     "data": {
      "text/plain": [
       "IntervalIndex([[2021-12-23 01:30:00, 2021-12-23 01:30:00.001000), [2021-12-23 01:30:00.001000, 2021-12-23 01:30:00.002000), [2021-12-23 01:30:00.002000, 2021-12-23 01:30:00.003000), [2021-12-23 01:30:00.003000, 2021-12-23 01:30:00.004000), [2021-12-23 01:30:00.004000, 2021-12-23 01:30:00.005000) ... [2021-12-23 07:59:59.995000, 2021-12-23 07:59:59.996000), [2021-12-23 07:59:59.996000, 2021-12-23 07:59:59.997000), [2021-12-23 07:59:59.997000, 2021-12-23 07:59:59.998000), [2021-12-23 07:59:59.998000, 2021-12-23 07:59:59.999000), [2021-12-23 07:59:59.999000, 2021-12-23 08:00:00)],\n",
       "              closed='left',\n",
       "              dtype='interval[datetime64[ns, UTC]]')"
      ]
     },
     "execution_count": 13,
     "metadata": {},
     "output_type": "execute_result"
    }
   ],
   "source": [
    "high_freq = hkg.trading_index(start, start, \"1ms\")\n",
    "high_freq"
   ]
  },
  {
   "cell_type": "markdown",
   "metadata": {},
   "source": [
    "That's a lot of indices..."
   ]
  },
  {
   "cell_type": "code",
   "execution_count": 14,
   "metadata": {},
   "outputs": [
    {
     "data": {
      "text/plain": [
       "19800000"
      ]
     },
     "execution_count": 14,
     "metadata": {},
     "output_type": "execute_result"
    }
   ],
   "source": [
    "len(high_freq)"
   ]
  },
  {
   "cell_type": "markdown",
   "metadata": {},
   "source": [
    "When the index is output as a `DatetimeIndex` the indices represent period bounds. Accordingly, the period length is given by the distance between consecutive indices. "
   ]
  },
  {
   "cell_type": "code",
   "execution_count": 15,
   "metadata": {},
   "outputs": [],
   "source": [
    "index = hkg.trading_index(start, start, \"30min\", intervals=False)"
   ]
  },
  {
   "cell_type": "code",
   "execution_count": 16,
   "metadata": {},
   "outputs": [
    {
     "data": {
      "text/plain": [
       "TimedeltaIndex(['0 days 00:30:00', '0 days 00:30:00', '0 days 00:30:00',\n",
       "                '0 days 00:30:00', '0 days 01:30:00', '0 days 00:30:00',\n",
       "                '0 days 00:30:00', '0 days 00:30:00', '0 days 00:30:00',\n",
       "                '0 days 00:30:00'],\n",
       "               dtype='timedelta64[ns]', freq=None)"
      ]
     },
     "execution_count": 16,
     "metadata": {},
     "output_type": "execute_result"
    }
   ],
   "source": [
    "index[1:] - index[:-1]"
   ]
  },
  {
   "cell_type": "markdown",
   "metadata": {},
   "source": [
    "Huh? Why's there an hour and a half in there? Let's have a look at that index..."
   ]
  },
  {
   "cell_type": "code",
   "execution_count": 17,
   "metadata": {},
   "outputs": [
    {
     "data": {
      "text/plain": [
       "DatetimeIndex(['2021-12-23 01:30:00+00:00', '2021-12-23 02:00:00+00:00',\n",
       "               '2021-12-23 02:30:00+00:00', '2021-12-23 03:00:00+00:00',\n",
       "               '2021-12-23 03:30:00+00:00', '2021-12-23 05:00:00+00:00',\n",
       "               '2021-12-23 05:30:00+00:00', '2021-12-23 06:00:00+00:00',\n",
       "               '2021-12-23 06:30:00+00:00', '2021-12-23 07:00:00+00:00',\n",
       "               '2021-12-23 07:30:00+00:00'],\n",
       "              dtype='datetime64[ns, UTC]', freq=None)"
      ]
     },
     "execution_count": 17,
     "metadata": {},
     "output_type": "execute_result"
    }
   ],
   "source": [
    "index"
   ]
  },
  {
   "cell_type": "code",
   "execution_count": 18,
   "metadata": {},
   "outputs": [
    {
     "data": {
      "text/html": [
       "<div>\n",
       "<style scoped>\n",
       "    .dataframe tbody tr th:only-of-type {\n",
       "        vertical-align: middle;\n",
       "    }\n",
       "\n",
       "    .dataframe tbody tr th {\n",
       "        vertical-align: top;\n",
       "    }\n",
       "\n",
       "    .dataframe thead th {\n",
       "        text-align: right;\n",
       "    }\n",
       "</style>\n",
       "<table border=\"1\" class=\"dataframe\">\n",
       "  <thead>\n",
       "    <tr style=\"text-align: right;\">\n",
       "      <th></th>\n",
       "      <th>market_open</th>\n",
       "      <th>break_start</th>\n",
       "      <th>break_end</th>\n",
       "      <th>market_close</th>\n",
       "    </tr>\n",
       "  </thead>\n",
       "  <tbody>\n",
       "    <tr>\n",
       "      <th>2021-12-23 00:00:00+00:00</th>\n",
       "      <td>2021-12-23 01:30:00</td>\n",
       "      <td>2021-12-23 04:00:00</td>\n",
       "      <td>2021-12-23 05:00:00</td>\n",
       "      <td>2021-12-23 08:00:00</td>\n",
       "    </tr>\n",
       "  </tbody>\n",
       "</table>\n",
       "</div>"
      ],
      "text/plain": [
       "                                  market_open         break_start  \\\n",
       "2021-12-23 00:00:00+00:00 2021-12-23 01:30:00 2021-12-23 04:00:00   \n",
       "\n",
       "                                    break_end        market_close  \n",
       "2021-12-23 00:00:00+00:00 2021-12-23 05:00:00 2021-12-23 08:00:00  "
      ]
     },
     "execution_count": 18,
     "metadata": {},
     "output_type": "execute_result"
    }
   ],
   "source": [
    "# recall\n",
    "schedule.iloc[[0]]"
   ]
  },
  {
   "cell_type": "markdown",
   "metadata": {},
   "source": [
    "Hong Kong has a lunch break. The trading index covers the morning subsession starting with the open, and then the afternoon subsession starting with the break-end. The hour and a half represents the difference between the last indice of the morning subsession and the first indice of the afternoon subsession. (See [`ignore_breaks`](#ignore_breaks) to treat session as continuous.)\n",
    "\n",
    "Ok, fine, but why hasn't the index included indices for 04:00 or 08:00? Because, it's `closed` on the \"left\" (by default)..."
   ]
  },
  {
   "cell_type": "markdown",
   "metadata": {},
   "source": [
    "### `closed`"
   ]
  },
  {
   "cell_type": "markdown",
   "metadata": {},
   "source": [
    "The `closed` parameter has a different effect depending on whether the index is being output as an `IntervalIndex` (default) or `DatetimeIndex` (i.e. if `intervals=False`).\n",
    "\n",
    "If the index is being output as an `IntervalIndex` then `closed` can take either \"left\" (default) or \"right\". This value is simply passed through to the `closed` parameter of the `IntervalIndex` (to define the side on which all the intervals should be closed). In this case `closed` has no other effect.\n",
    "\n",
    "If the index is being output as an `DatetimeIndex` then `closed` can take either \"left\", \"right\", \"both\" or \"neither\". In this case `closed` determines **the side of each implied period that an indice should be defined on**. The consequence of each value is best understood by considering whether or not the left side of the first implied period and/or the right side of last implied period are included as indices:\n",
    "* \"left\" (default) - include left side of first period, do not include right side of last period.\n",
    "* \"right\" - do not include left side of first period, include right side of last period.\n",
    "* \"both\" - include both left side of first period and right side of last period.\n",
    "* \"neither\" - do not include either left side of first period or right side of last period.\n",
    "\n",
    "So, going back to the prior example, passing `closed` as right will include the 04:00 and 08:00 indices."
   ]
  },
  {
   "cell_type": "code",
   "execution_count": 19,
   "metadata": {},
   "outputs": [
    {
     "data": {
      "text/plain": [
       "DatetimeIndex(['2021-12-23 02:00:00+00:00', '2021-12-23 02:30:00+00:00',\n",
       "               '2021-12-23 03:00:00+00:00', '2021-12-23 03:30:00+00:00',\n",
       "               '2021-12-23 04:00:00+00:00', '2021-12-23 05:30:00+00:00',\n",
       "               '2021-12-23 06:00:00+00:00', '2021-12-23 06:30:00+00:00',\n",
       "               '2021-12-23 07:00:00+00:00', '2021-12-23 07:30:00+00:00',\n",
       "               '2021-12-23 08:00:00+00:00'],\n",
       "              dtype='datetime64[ns, UTC]', freq=None)"
      ]
     },
     "execution_count": 19,
     "metadata": {},
     "output_type": "execute_result"
    }
   ],
   "source": [
    "hkg.trading_index(start, start, \"30min\", closed=\"right\", intervals=False)"
   ]
  },
  {
   "cell_type": "markdown",
   "metadata": {},
   "source": [
    "Although now that only the right sides of the implied periods are being defined - the open (01:30) and start of the afternoon subsession (05:00) are not included...\n",
    "\n",
    "`closed` can be passed as \"both\" to include both the left and the right side of each implied interval."
   ]
  },
  {
   "cell_type": "code",
   "execution_count": 20,
   "metadata": {},
   "outputs": [
    {
     "data": {
      "text/plain": [
       "DatetimeIndex(['2021-12-23 01:30:00+00:00', '2021-12-23 02:00:00+00:00',\n",
       "               '2021-12-23 02:30:00+00:00', '2021-12-23 03:00:00+00:00',\n",
       "               '2021-12-23 03:30:00+00:00', '2021-12-23 04:00:00+00:00',\n",
       "               '2021-12-23 05:00:00+00:00', '2021-12-23 05:30:00+00:00',\n",
       "               '2021-12-23 06:00:00+00:00', '2021-12-23 06:30:00+00:00',\n",
       "               '2021-12-23 07:00:00+00:00', '2021-12-23 07:30:00+00:00',\n",
       "               '2021-12-23 08:00:00+00:00'],\n",
       "              dtype='datetime64[ns, UTC]', freq=None)"
      ]
     },
     "execution_count": 20,
     "metadata": {},
     "output_type": "execute_result"
    }
   ],
   "source": [
    "hkg.trading_index(start, start, \"30min\", closed=\"both\", intervals=False)"
   ]
  },
  {
   "cell_type": "markdown",
   "metadata": {},
   "source": [
    "And if you have a use case where you don't require either the left side of a (sub)session's first period or the right side of its last one, then you're after \"neither\"."
   ]
  },
  {
   "cell_type": "code",
   "execution_count": 21,
   "metadata": {},
   "outputs": [
    {
     "data": {
      "text/plain": [
       "DatetimeIndex(['2021-12-23 02:00:00+00:00', '2021-12-23 02:30:00+00:00',\n",
       "               '2021-12-23 03:00:00+00:00', '2021-12-23 03:30:00+00:00',\n",
       "               '2021-12-23 05:30:00+00:00', '2021-12-23 06:00:00+00:00',\n",
       "               '2021-12-23 06:30:00+00:00', '2021-12-23 07:00:00+00:00',\n",
       "               '2021-12-23 07:30:00+00:00'],\n",
       "              dtype='datetime64[ns, UTC]', freq=None)"
      ]
     },
     "execution_count": 21,
     "metadata": {},
     "output_type": "execute_result"
    }
   ],
   "source": [
    "hkg.trading_index(start, start, \"30min\", closed=\"neither\", intervals=False)"
   ]
  },
  {
   "cell_type": "markdown",
   "metadata": {},
   "source": [
    "### `force_close`, `force_break_close` and `force`"
   ]
  },
  {
   "cell_type": "markdown",
   "metadata": {},
   "source": [
    "Have a look at this."
   ]
  },
  {
   "cell_type": "code",
   "execution_count": 22,
   "metadata": {},
   "outputs": [
    {
     "data": {
      "text/html": [
       "<div>\n",
       "<style scoped>\n",
       "    .dataframe tbody tr th:only-of-type {\n",
       "        vertical-align: middle;\n",
       "    }\n",
       "\n",
       "    .dataframe tbody tr th {\n",
       "        vertical-align: top;\n",
       "    }\n",
       "\n",
       "    .dataframe thead th {\n",
       "        text-align: right;\n",
       "    }\n",
       "</style>\n",
       "<table border=\"1\" class=\"dataframe\">\n",
       "  <thead>\n",
       "    <tr style=\"text-align: right;\">\n",
       "      <th></th>\n",
       "      <th>left_side</th>\n",
       "      <th>right_side</th>\n",
       "    </tr>\n",
       "    <tr>\n",
       "      <th>IntervalIndex</th>\n",
       "      <th></th>\n",
       "      <th></th>\n",
       "    </tr>\n",
       "  </thead>\n",
       "  <tbody>\n",
       "    <tr>\n",
       "      <th>[2021-12-23 01:30:00, 2021-12-23 02:50:00)</th>\n",
       "      <td>2021-12-23 01:30:00+00:00</td>\n",
       "      <td>2021-12-23 02:50:00+00:00</td>\n",
       "    </tr>\n",
       "    <tr>\n",
       "      <th>[2021-12-23 02:50:00, 2021-12-23 04:10:00)</th>\n",
       "      <td>2021-12-23 02:50:00+00:00</td>\n",
       "      <td>2021-12-23 04:10:00+00:00</td>\n",
       "    </tr>\n",
       "    <tr>\n",
       "      <th>[2021-12-23 05:00:00, 2021-12-23 06:20:00)</th>\n",
       "      <td>2021-12-23 05:00:00+00:00</td>\n",
       "      <td>2021-12-23 06:20:00+00:00</td>\n",
       "    </tr>\n",
       "    <tr>\n",
       "      <th>[2021-12-23 06:20:00, 2021-12-23 07:40:00)</th>\n",
       "      <td>2021-12-23 06:20:00+00:00</td>\n",
       "      <td>2021-12-23 07:40:00+00:00</td>\n",
       "    </tr>\n",
       "    <tr>\n",
       "      <th>[2021-12-23 07:40:00, 2021-12-23 09:00:00)</th>\n",
       "      <td>2021-12-23 07:40:00+00:00</td>\n",
       "      <td>2021-12-23 09:00:00+00:00</td>\n",
       "    </tr>\n",
       "  </tbody>\n",
       "</table>\n",
       "</div>"
      ],
      "text/plain": [
       "                                                           left_side  \\\n",
       "IntervalIndex                                                          \n",
       "[2021-12-23 01:30:00, 2021-12-23 02:50:00) 2021-12-23 01:30:00+00:00   \n",
       "[2021-12-23 02:50:00, 2021-12-23 04:10:00) 2021-12-23 02:50:00+00:00   \n",
       "[2021-12-23 05:00:00, 2021-12-23 06:20:00) 2021-12-23 05:00:00+00:00   \n",
       "[2021-12-23 06:20:00, 2021-12-23 07:40:00) 2021-12-23 06:20:00+00:00   \n",
       "[2021-12-23 07:40:00, 2021-12-23 09:00:00) 2021-12-23 07:40:00+00:00   \n",
       "\n",
       "                                                          right_side  \n",
       "IntervalIndex                                                         \n",
       "[2021-12-23 01:30:00, 2021-12-23 02:50:00) 2021-12-23 02:50:00+00:00  \n",
       "[2021-12-23 02:50:00, 2021-12-23 04:10:00) 2021-12-23 04:10:00+00:00  \n",
       "[2021-12-23 05:00:00, 2021-12-23 06:20:00) 2021-12-23 06:20:00+00:00  \n",
       "[2021-12-23 06:20:00, 2021-12-23 07:40:00) 2021-12-23 07:40:00+00:00  \n",
       "[2021-12-23 07:40:00, 2021-12-23 09:00:00) 2021-12-23 09:00:00+00:00  "
      ]
     },
     "execution_count": 22,
     "metadata": {},
     "output_type": "execute_result"
    }
   ],
   "source": [
    "index = hkg.trading_index(start, start, \"80T\")\n",
    "show_as_df(index)"
   ]
  },
  {
   "cell_type": "markdown",
   "metadata": {},
   "source": [
    "Specifically, consider the last indice of the morning subsession against the break-start time..."
   ]
  },
  {
   "cell_type": "code",
   "execution_count": 23,
   "metadata": {},
   "outputs": [
    {
     "data": {
      "text/html": [
       "<div>\n",
       "<style scoped>\n",
       "    .dataframe tbody tr th:only-of-type {\n",
       "        vertical-align: middle;\n",
       "    }\n",
       "\n",
       "    .dataframe tbody tr th {\n",
       "        vertical-align: top;\n",
       "    }\n",
       "\n",
       "    .dataframe thead th {\n",
       "        text-align: right;\n",
       "    }\n",
       "</style>\n",
       "<table border=\"1\" class=\"dataframe\">\n",
       "  <thead>\n",
       "    <tr style=\"text-align: right;\">\n",
       "      <th></th>\n",
       "      <th>market_open</th>\n",
       "      <th>break_start</th>\n",
       "      <th>break_end</th>\n",
       "      <th>market_close</th>\n",
       "    </tr>\n",
       "  </thead>\n",
       "  <tbody>\n",
       "    <tr>\n",
       "      <th>2021-12-23 00:00:00+00:00</th>\n",
       "      <td>2021-12-23 01:30:00</td>\n",
       "      <td>2021-12-23 04:00:00</td>\n",
       "      <td>2021-12-23 05:00:00</td>\n",
       "      <td>2021-12-23 08:00:00</td>\n",
       "    </tr>\n",
       "  </tbody>\n",
       "</table>\n",
       "</div>"
      ],
      "text/plain": [
       "                                  market_open         break_start  \\\n",
       "2021-12-23 00:00:00+00:00 2021-12-23 01:30:00 2021-12-23 04:00:00   \n",
       "\n",
       "                                    break_end        market_close  \n",
       "2021-12-23 00:00:00+00:00 2021-12-23 05:00:00 2021-12-23 08:00:00  "
      ]
     },
     "execution_count": 23,
     "metadata": {},
     "output_type": "execute_result"
    }
   ],
   "source": [
    "# for reference\n",
    "schedule.iloc[[0]]"
   ]
  },
  {
   "cell_type": "code",
   "execution_count": 24,
   "metadata": {},
   "outputs": [
    {
     "data": {
      "text/plain": [
       "Interval('2021-12-23 02:50:00', '2021-12-23 04:10:00', closed='left')"
      ]
     },
     "execution_count": 24,
     "metadata": {},
     "output_type": "execute_result"
    }
   ],
   "source": [
    "index[1]"
   ]
  },
  {
   "cell_type": "markdown",
   "metadata": {},
   "source": [
    "It can be seen that whilst this indice represents, like all the others, a period of 80 minutes, only the first 70 minutes of these actually represent a trading period, with the last 10 minutes, from 04:00 to 04:10, falling within the subsequent break.\n",
    "\n",
    "Similarly, it can be see that the last indice includes a full hour (08:00 - 09:00) that falls after the close.\n",
    "\n",
    "**The final indice of a (sub)session will always include a non-trading period whenever the period length is not a factor of the (sub)session duration.**\n",
    "\n",
    "The `force_close` and `force_break_close` options are provided to force the right side of the final period to, respectively, the session / morning subsession close."
   ]
  },
  {
   "cell_type": "code",
   "execution_count": 25,
   "metadata": {},
   "outputs": [
    {
     "data": {
      "text/html": [
       "<div>\n",
       "<style scoped>\n",
       "    .dataframe tbody tr th:only-of-type {\n",
       "        vertical-align: middle;\n",
       "    }\n",
       "\n",
       "    .dataframe tbody tr th {\n",
       "        vertical-align: top;\n",
       "    }\n",
       "\n",
       "    .dataframe thead th {\n",
       "        text-align: right;\n",
       "    }\n",
       "</style>\n",
       "<table border=\"1\" class=\"dataframe\">\n",
       "  <thead>\n",
       "    <tr style=\"text-align: right;\">\n",
       "      <th></th>\n",
       "      <th>left_side</th>\n",
       "      <th>right_side</th>\n",
       "    </tr>\n",
       "    <tr>\n",
       "      <th>IntervalIndex</th>\n",
       "      <th></th>\n",
       "      <th></th>\n",
       "    </tr>\n",
       "  </thead>\n",
       "  <tbody>\n",
       "    <tr>\n",
       "      <th>[2021-12-23 01:30:00, 2021-12-23 02:50:00)</th>\n",
       "      <td>2021-12-23 01:30:00+00:00</td>\n",
       "      <td>2021-12-23 02:50:00+00:00</td>\n",
       "    </tr>\n",
       "    <tr>\n",
       "      <th>[2021-12-23 02:50:00, 2021-12-23 04:00:00)</th>\n",
       "      <td>2021-12-23 02:50:00+00:00</td>\n",
       "      <td>2021-12-23 04:00:00+00:00</td>\n",
       "    </tr>\n",
       "    <tr>\n",
       "      <th>[2021-12-23 05:00:00, 2021-12-23 06:20:00)</th>\n",
       "      <td>2021-12-23 05:00:00+00:00</td>\n",
       "      <td>2021-12-23 06:20:00+00:00</td>\n",
       "    </tr>\n",
       "    <tr>\n",
       "      <th>[2021-12-23 06:20:00, 2021-12-23 07:40:00)</th>\n",
       "      <td>2021-12-23 06:20:00+00:00</td>\n",
       "      <td>2021-12-23 07:40:00+00:00</td>\n",
       "    </tr>\n",
       "    <tr>\n",
       "      <th>[2021-12-23 07:40:00, 2021-12-23 08:00:00)</th>\n",
       "      <td>2021-12-23 07:40:00+00:00</td>\n",
       "      <td>2021-12-23 08:00:00+00:00</td>\n",
       "    </tr>\n",
       "  </tbody>\n",
       "</table>\n",
       "</div>"
      ],
      "text/plain": [
       "                                                           left_side  \\\n",
       "IntervalIndex                                                          \n",
       "[2021-12-23 01:30:00, 2021-12-23 02:50:00) 2021-12-23 01:30:00+00:00   \n",
       "[2021-12-23 02:50:00, 2021-12-23 04:00:00) 2021-12-23 02:50:00+00:00   \n",
       "[2021-12-23 05:00:00, 2021-12-23 06:20:00) 2021-12-23 05:00:00+00:00   \n",
       "[2021-12-23 06:20:00, 2021-12-23 07:40:00) 2021-12-23 06:20:00+00:00   \n",
       "[2021-12-23 07:40:00, 2021-12-23 08:00:00) 2021-12-23 07:40:00+00:00   \n",
       "\n",
       "                                                          right_side  \n",
       "IntervalIndex                                                         \n",
       "[2021-12-23 01:30:00, 2021-12-23 02:50:00) 2021-12-23 02:50:00+00:00  \n",
       "[2021-12-23 02:50:00, 2021-12-23 04:00:00) 2021-12-23 04:00:00+00:00  \n",
       "[2021-12-23 05:00:00, 2021-12-23 06:20:00) 2021-12-23 06:20:00+00:00  \n",
       "[2021-12-23 06:20:00, 2021-12-23 07:40:00) 2021-12-23 07:40:00+00:00  \n",
       "[2021-12-23 07:40:00, 2021-12-23 08:00:00) 2021-12-23 08:00:00+00:00  "
      ]
     },
     "execution_count": 25,
     "metadata": {},
     "output_type": "execute_result"
    }
   ],
   "source": [
    "index = hkg.trading_index(\n",
    "    start, start, \"80T\", force_close=True, force_break_close=True\n",
    ")\n",
    "show_as_df(index)"
   ]
  },
  {
   "cell_type": "markdown",
   "metadata": {},
   "source": [
    "Note that these options can be used independently."
   ]
  },
  {
   "cell_type": "code",
   "execution_count": 26,
   "metadata": {},
   "outputs": [
    {
     "data": {
      "text/html": [
       "<div>\n",
       "<style scoped>\n",
       "    .dataframe tbody tr th:only-of-type {\n",
       "        vertical-align: middle;\n",
       "    }\n",
       "\n",
       "    .dataframe tbody tr th {\n",
       "        vertical-align: top;\n",
       "    }\n",
       "\n",
       "    .dataframe thead th {\n",
       "        text-align: right;\n",
       "    }\n",
       "</style>\n",
       "<table border=\"1\" class=\"dataframe\">\n",
       "  <thead>\n",
       "    <tr style=\"text-align: right;\">\n",
       "      <th></th>\n",
       "      <th>left_side</th>\n",
       "      <th>right_side</th>\n",
       "    </tr>\n",
       "    <tr>\n",
       "      <th>IntervalIndex</th>\n",
       "      <th></th>\n",
       "      <th></th>\n",
       "    </tr>\n",
       "  </thead>\n",
       "  <tbody>\n",
       "    <tr>\n",
       "      <th>[2021-12-23 01:30:00, 2021-12-23 02:50:00)</th>\n",
       "      <td>2021-12-23 01:30:00+00:00</td>\n",
       "      <td>2021-12-23 02:50:00+00:00</td>\n",
       "    </tr>\n",
       "    <tr>\n",
       "      <th>[2021-12-23 02:50:00, 2021-12-23 04:00:00)</th>\n",
       "      <td>2021-12-23 02:50:00+00:00</td>\n",
       "      <td>2021-12-23 04:00:00+00:00</td>\n",
       "    </tr>\n",
       "    <tr>\n",
       "      <th>[2021-12-23 05:00:00, 2021-12-23 06:20:00)</th>\n",
       "      <td>2021-12-23 05:00:00+00:00</td>\n",
       "      <td>2021-12-23 06:20:00+00:00</td>\n",
       "    </tr>\n",
       "    <tr>\n",
       "      <th>[2021-12-23 06:20:00, 2021-12-23 07:40:00)</th>\n",
       "      <td>2021-12-23 06:20:00+00:00</td>\n",
       "      <td>2021-12-23 07:40:00+00:00</td>\n",
       "    </tr>\n",
       "    <tr>\n",
       "      <th>[2021-12-23 07:40:00, 2021-12-23 09:00:00)</th>\n",
       "      <td>2021-12-23 07:40:00+00:00</td>\n",
       "      <td>2021-12-23 09:00:00+00:00</td>\n",
       "    </tr>\n",
       "  </tbody>\n",
       "</table>\n",
       "</div>"
      ],
      "text/plain": [
       "                                                           left_side  \\\n",
       "IntervalIndex                                                          \n",
       "[2021-12-23 01:30:00, 2021-12-23 02:50:00) 2021-12-23 01:30:00+00:00   \n",
       "[2021-12-23 02:50:00, 2021-12-23 04:00:00) 2021-12-23 02:50:00+00:00   \n",
       "[2021-12-23 05:00:00, 2021-12-23 06:20:00) 2021-12-23 05:00:00+00:00   \n",
       "[2021-12-23 06:20:00, 2021-12-23 07:40:00) 2021-12-23 06:20:00+00:00   \n",
       "[2021-12-23 07:40:00, 2021-12-23 09:00:00) 2021-12-23 07:40:00+00:00   \n",
       "\n",
       "                                                          right_side  \n",
       "IntervalIndex                                                         \n",
       "[2021-12-23 01:30:00, 2021-12-23 02:50:00) 2021-12-23 02:50:00+00:00  \n",
       "[2021-12-23 02:50:00, 2021-12-23 04:00:00) 2021-12-23 04:00:00+00:00  \n",
       "[2021-12-23 05:00:00, 2021-12-23 06:20:00) 2021-12-23 06:20:00+00:00  \n",
       "[2021-12-23 06:20:00, 2021-12-23 07:40:00) 2021-12-23 07:40:00+00:00  \n",
       "[2021-12-23 07:40:00, 2021-12-23 09:00:00) 2021-12-23 09:00:00+00:00  "
      ]
     },
     "execution_count": 26,
     "metadata": {},
     "output_type": "execute_result"
    }
   ],
   "source": [
    "index = hkg.trading_index(start, start, \"80T\", force_break_close=True)\n",
    "show_as_df(index)"
   ]
  },
  {
   "cell_type": "markdown",
   "metadata": {},
   "source": [
    "If you are going to set both `force_close` and `force_break_close` to the same value then you're better off passing just the `force` convenience option. If passed, `force` sets both `force_close` and `force_break_close` (anything passed to either will be overriden)."
   ]
  },
  {
   "cell_type": "code",
   "execution_count": 27,
   "metadata": {},
   "outputs": [
    {
     "data": {
      "text/html": [
       "<div>\n",
       "<style scoped>\n",
       "    .dataframe tbody tr th:only-of-type {\n",
       "        vertical-align: middle;\n",
       "    }\n",
       "\n",
       "    .dataframe tbody tr th {\n",
       "        vertical-align: top;\n",
       "    }\n",
       "\n",
       "    .dataframe thead th {\n",
       "        text-align: right;\n",
       "    }\n",
       "</style>\n",
       "<table border=\"1\" class=\"dataframe\">\n",
       "  <thead>\n",
       "    <tr style=\"text-align: right;\">\n",
       "      <th></th>\n",
       "      <th>left_side</th>\n",
       "      <th>right_side</th>\n",
       "    </tr>\n",
       "    <tr>\n",
       "      <th>IntervalIndex</th>\n",
       "      <th></th>\n",
       "      <th></th>\n",
       "    </tr>\n",
       "  </thead>\n",
       "  <tbody>\n",
       "    <tr>\n",
       "      <th>[2021-12-23 01:30:00, 2021-12-23 02:50:00)</th>\n",
       "      <td>2021-12-23 01:30:00+00:00</td>\n",
       "      <td>2021-12-23 02:50:00+00:00</td>\n",
       "    </tr>\n",
       "    <tr>\n",
       "      <th>[2021-12-23 02:50:00, 2021-12-23 04:00:00)</th>\n",
       "      <td>2021-12-23 02:50:00+00:00</td>\n",
       "      <td>2021-12-23 04:00:00+00:00</td>\n",
       "    </tr>\n",
       "    <tr>\n",
       "      <th>[2021-12-23 05:00:00, 2021-12-23 06:20:00)</th>\n",
       "      <td>2021-12-23 05:00:00+00:00</td>\n",
       "      <td>2021-12-23 06:20:00+00:00</td>\n",
       "    </tr>\n",
       "    <tr>\n",
       "      <th>[2021-12-23 06:20:00, 2021-12-23 07:40:00)</th>\n",
       "      <td>2021-12-23 06:20:00+00:00</td>\n",
       "      <td>2021-12-23 07:40:00+00:00</td>\n",
       "    </tr>\n",
       "    <tr>\n",
       "      <th>[2021-12-23 07:40:00, 2021-12-23 08:00:00)</th>\n",
       "      <td>2021-12-23 07:40:00+00:00</td>\n",
       "      <td>2021-12-23 08:00:00+00:00</td>\n",
       "    </tr>\n",
       "  </tbody>\n",
       "</table>\n",
       "</div>"
      ],
      "text/plain": [
       "                                                           left_side  \\\n",
       "IntervalIndex                                                          \n",
       "[2021-12-23 01:30:00, 2021-12-23 02:50:00) 2021-12-23 01:30:00+00:00   \n",
       "[2021-12-23 02:50:00, 2021-12-23 04:00:00) 2021-12-23 02:50:00+00:00   \n",
       "[2021-12-23 05:00:00, 2021-12-23 06:20:00) 2021-12-23 05:00:00+00:00   \n",
       "[2021-12-23 06:20:00, 2021-12-23 07:40:00) 2021-12-23 06:20:00+00:00   \n",
       "[2021-12-23 07:40:00, 2021-12-23 08:00:00) 2021-12-23 07:40:00+00:00   \n",
       "\n",
       "                                                          right_side  \n",
       "IntervalIndex                                                         \n",
       "[2021-12-23 01:30:00, 2021-12-23 02:50:00) 2021-12-23 02:50:00+00:00  \n",
       "[2021-12-23 02:50:00, 2021-12-23 04:00:00) 2021-12-23 04:00:00+00:00  \n",
       "[2021-12-23 05:00:00, 2021-12-23 06:20:00) 2021-12-23 06:20:00+00:00  \n",
       "[2021-12-23 06:20:00, 2021-12-23 07:40:00) 2021-12-23 07:40:00+00:00  \n",
       "[2021-12-23 07:40:00, 2021-12-23 08:00:00) 2021-12-23 08:00:00+00:00  "
      ]
     },
     "execution_count": 27,
     "metadata": {},
     "output_type": "execute_result"
    }
   ],
   "source": [
    "index = hkg.trading_index(start, start, \"80T\", force=True)\n",
    "show_as_df(index)"
   ]
  },
  {
   "cell_type": "markdown",
   "metadata": {},
   "source": [
    "An obvious consequence of forcing the close is that any indice that's forced will have a shorter period length than `period`."
   ]
  },
  {
   "cell_type": "code",
   "execution_count": 28,
   "metadata": {},
   "outputs": [
    {
     "data": {
      "text/plain": [
       "TimedeltaIndex(['0 days 01:20:00', '0 days 01:10:00', '0 days 01:20:00',\n",
       "                '0 days 01:20:00', '0 days 00:20:00'],\n",
       "               dtype='timedelta64[ns]', freq=None)"
      ]
     },
     "execution_count": 28,
     "metadata": {},
     "output_type": "execute_result"
    }
   ],
   "source": [
    "index.length"
   ]
  },
  {
   "cell_type": "markdown",
   "metadata": {},
   "source": [
    "**If having indices that represent only trading periods is more important to you than having them all relfect the same period length, then forcing the close is the way to go.**"
   ]
  },
  {
   "cell_type": "markdown",
   "metadata": {},
   "source": [
    "The force close options can also be employed when creating `DatetimeIndex`.\n",
    "\n",
    "When `closed` is either \"right\" or \"both\" the effect will be similar to that for the `IntervalIndex`, in that if the (sub)sessions' last indices otherwise fall later than the close they will be curtailed to the close."
   ]
  },
  {
   "cell_type": "code",
   "execution_count": 29,
   "metadata": {},
   "outputs": [
    {
     "data": {
      "text/plain": [
       "DatetimeIndex(['2021-12-23 02:50:00+00:00', '2021-12-23 04:10:00+00:00',\n",
       "               '2021-12-23 06:20:00+00:00', '2021-12-23 07:40:00+00:00',\n",
       "               '2021-12-23 08:00:00+00:00'],\n",
       "              dtype='datetime64[ns, UTC]', freq=None)"
      ]
     },
     "execution_count": 29,
     "metadata": {},
     "output_type": "execute_result"
    }
   ],
   "source": [
    "# NB forcing only the session close, not the break\n",
    "hkg.trading_index(start, start, \"80T\", closed=\"right\", force_close=True, intervals=False)"
   ]
  },
  {
   "cell_type": "markdown",
   "metadata": {},
   "source": [
    "When `closed` is either \"left\" or \"neither\" the effect of forcing the close simply adds the corresponding close to the index. This might be thought of as adding the right side of the (sub)session's last implied period, albeit curtailed to the close. \n",
    "\n",
    "Recalling the question of why 04:00 and 08:00 aren't included when doing this."
   ]
  },
  {
   "cell_type": "code",
   "execution_count": 30,
   "metadata": {},
   "outputs": [
    {
     "data": {
      "text/plain": [
       "DatetimeIndex(['2021-12-23 01:30:00+00:00', '2021-12-23 02:00:00+00:00',\n",
       "               '2021-12-23 02:30:00+00:00', '2021-12-23 03:00:00+00:00',\n",
       "               '2021-12-23 03:30:00+00:00', '2021-12-23 05:00:00+00:00',\n",
       "               '2021-12-23 05:30:00+00:00', '2021-12-23 06:00:00+00:00',\n",
       "               '2021-12-23 06:30:00+00:00', '2021-12-23 07:00:00+00:00',\n",
       "               '2021-12-23 07:30:00+00:00'],\n",
       "              dtype='datetime64[ns, UTC]', freq=None)"
      ]
     },
     "execution_count": 30,
     "metadata": {},
     "output_type": "execute_result"
    }
   ],
   "source": [
    "hkg.trading_index(start, start, \"30min\", intervals=False)"
   ]
  },
  {
   "cell_type": "markdown",
   "metadata": {},
   "source": [
    "Forcing the closes offers a way of including them if that's what's required."
   ]
  },
  {
   "cell_type": "code",
   "execution_count": 31,
   "metadata": {},
   "outputs": [
    {
     "data": {
      "text/plain": [
       "DatetimeIndex(['2021-12-23 01:30:00+00:00', '2021-12-23 02:00:00+00:00',\n",
       "               '2021-12-23 02:30:00+00:00', '2021-12-23 03:00:00+00:00',\n",
       "               '2021-12-23 03:30:00+00:00', '2021-12-23 04:00:00+00:00',\n",
       "               '2021-12-23 05:00:00+00:00', '2021-12-23 05:30:00+00:00',\n",
       "               '2021-12-23 06:00:00+00:00', '2021-12-23 06:30:00+00:00',\n",
       "               '2021-12-23 07:00:00+00:00', '2021-12-23 07:30:00+00:00',\n",
       "               '2021-12-23 08:00:00+00:00'],\n",
       "              dtype='datetime64[ns, UTC]', freq=None)"
      ]
     },
     "execution_count": 31,
     "metadata": {},
     "output_type": "execute_result"
    }
   ],
   "source": [
    "hkg.trading_index(start, start, \"30min\", force=True, intervals=False)"
   ]
  },
  {
   "cell_type": "markdown",
   "metadata": {},
   "source": [
    "Worth nothing that if all closes are forced then the same index will be returned by passing `closed` as:\n",
    "- \"left\" or \"both\".\n",
    "- \"right\" or \"neither\"."
   ]
  },
  {
   "cell_type": "markdown",
   "metadata": {},
   "source": [
    "### `ignore_breaks`"
   ]
  },
  {
   "cell_type": "markdown",
   "metadata": {},
   "source": [
    "`ignore_breaks` provides for ignoring any session breaks and instead treating every session as if it were continuous. The following shows how by default `ignore_breaks` is False such that non-trading indices are not introduced within breaks."
   ]
  },
  {
   "cell_type": "code",
   "execution_count": 32,
   "metadata": {},
   "outputs": [
    {
     "data": {
      "text/html": [
       "<div>\n",
       "<style scoped>\n",
       "    .dataframe tbody tr th:only-of-type {\n",
       "        vertical-align: middle;\n",
       "    }\n",
       "\n",
       "    .dataframe tbody tr th {\n",
       "        vertical-align: top;\n",
       "    }\n",
       "\n",
       "    .dataframe thead th {\n",
       "        text-align: right;\n",
       "    }\n",
       "</style>\n",
       "<table border=\"1\" class=\"dataframe\">\n",
       "  <thead>\n",
       "    <tr style=\"text-align: right;\">\n",
       "      <th></th>\n",
       "      <th>market_open</th>\n",
       "      <th>break_start</th>\n",
       "      <th>break_end</th>\n",
       "      <th>market_close</th>\n",
       "    </tr>\n",
       "  </thead>\n",
       "  <tbody>\n",
       "    <tr>\n",
       "      <th>2021-12-23 00:00:00+00:00</th>\n",
       "      <td>2021-12-23 01:30:00</td>\n",
       "      <td>2021-12-23 04:00:00</td>\n",
       "      <td>2021-12-23 05:00:00</td>\n",
       "      <td>2021-12-23 08:00:00</td>\n",
       "    </tr>\n",
       "  </tbody>\n",
       "</table>\n",
       "</div>"
      ],
      "text/plain": [
       "                                  market_open         break_start  \\\n",
       "2021-12-23 00:00:00+00:00 2021-12-23 01:30:00 2021-12-23 04:00:00   \n",
       "\n",
       "                                    break_end        market_close  \n",
       "2021-12-23 00:00:00+00:00 2021-12-23 05:00:00 2021-12-23 08:00:00  "
      ]
     },
     "execution_count": 32,
     "metadata": {},
     "output_type": "execute_result"
    }
   ],
   "source": [
    "# for reference\n",
    "schedule.iloc[[0]]"
   ]
  },
  {
   "cell_type": "code",
   "execution_count": 33,
   "metadata": {},
   "outputs": [
    {
     "data": {
      "text/html": [
       "<div>\n",
       "<style scoped>\n",
       "    .dataframe tbody tr th:only-of-type {\n",
       "        vertical-align: middle;\n",
       "    }\n",
       "\n",
       "    .dataframe tbody tr th {\n",
       "        vertical-align: top;\n",
       "    }\n",
       "\n",
       "    .dataframe thead th {\n",
       "        text-align: right;\n",
       "    }\n",
       "</style>\n",
       "<table border=\"1\" class=\"dataframe\">\n",
       "  <thead>\n",
       "    <tr style=\"text-align: right;\">\n",
       "      <th></th>\n",
       "      <th>left_side</th>\n",
       "      <th>right_side</th>\n",
       "    </tr>\n",
       "    <tr>\n",
       "      <th>IntervalIndex</th>\n",
       "      <th></th>\n",
       "      <th></th>\n",
       "    </tr>\n",
       "  </thead>\n",
       "  <tbody>\n",
       "    <tr>\n",
       "      <th>[2021-12-23 01:30:00, 2021-12-23 02:00:00)</th>\n",
       "      <td>2021-12-23 01:30:00+00:00</td>\n",
       "      <td>2021-12-23 02:00:00+00:00</td>\n",
       "    </tr>\n",
       "    <tr>\n",
       "      <th>[2021-12-23 02:00:00, 2021-12-23 02:30:00)</th>\n",
       "      <td>2021-12-23 02:00:00+00:00</td>\n",
       "      <td>2021-12-23 02:30:00+00:00</td>\n",
       "    </tr>\n",
       "    <tr>\n",
       "      <th>[2021-12-23 02:30:00, 2021-12-23 03:00:00)</th>\n",
       "      <td>2021-12-23 02:30:00+00:00</td>\n",
       "      <td>2021-12-23 03:00:00+00:00</td>\n",
       "    </tr>\n",
       "    <tr>\n",
       "      <th>[2021-12-23 03:00:00, 2021-12-23 03:30:00)</th>\n",
       "      <td>2021-12-23 03:00:00+00:00</td>\n",
       "      <td>2021-12-23 03:30:00+00:00</td>\n",
       "    </tr>\n",
       "    <tr>\n",
       "      <th>[2021-12-23 03:30:00, 2021-12-23 04:00:00)</th>\n",
       "      <td>2021-12-23 03:30:00+00:00</td>\n",
       "      <td>2021-12-23 04:00:00+00:00</td>\n",
       "    </tr>\n",
       "    <tr>\n",
       "      <th>[2021-12-23 05:00:00, 2021-12-23 05:30:00)</th>\n",
       "      <td>2021-12-23 05:00:00+00:00</td>\n",
       "      <td>2021-12-23 05:30:00+00:00</td>\n",
       "    </tr>\n",
       "    <tr>\n",
       "      <th>[2021-12-23 05:30:00, 2021-12-23 06:00:00)</th>\n",
       "      <td>2021-12-23 05:30:00+00:00</td>\n",
       "      <td>2021-12-23 06:00:00+00:00</td>\n",
       "    </tr>\n",
       "    <tr>\n",
       "      <th>[2021-12-23 06:00:00, 2021-12-23 06:30:00)</th>\n",
       "      <td>2021-12-23 06:00:00+00:00</td>\n",
       "      <td>2021-12-23 06:30:00+00:00</td>\n",
       "    </tr>\n",
       "    <tr>\n",
       "      <th>[2021-12-23 06:30:00, 2021-12-23 07:00:00)</th>\n",
       "      <td>2021-12-23 06:30:00+00:00</td>\n",
       "      <td>2021-12-23 07:00:00+00:00</td>\n",
       "    </tr>\n",
       "    <tr>\n",
       "      <th>[2021-12-23 07:00:00, 2021-12-23 07:30:00)</th>\n",
       "      <td>2021-12-23 07:00:00+00:00</td>\n",
       "      <td>2021-12-23 07:30:00+00:00</td>\n",
       "    </tr>\n",
       "    <tr>\n",
       "      <th>[2021-12-23 07:30:00, 2021-12-23 08:00:00)</th>\n",
       "      <td>2021-12-23 07:30:00+00:00</td>\n",
       "      <td>2021-12-23 08:00:00+00:00</td>\n",
       "    </tr>\n",
       "  </tbody>\n",
       "</table>\n",
       "</div>"
      ],
      "text/plain": [
       "                                                           left_side  \\\n",
       "IntervalIndex                                                          \n",
       "[2021-12-23 01:30:00, 2021-12-23 02:00:00) 2021-12-23 01:30:00+00:00   \n",
       "[2021-12-23 02:00:00, 2021-12-23 02:30:00) 2021-12-23 02:00:00+00:00   \n",
       "[2021-12-23 02:30:00, 2021-12-23 03:00:00) 2021-12-23 02:30:00+00:00   \n",
       "[2021-12-23 03:00:00, 2021-12-23 03:30:00) 2021-12-23 03:00:00+00:00   \n",
       "[2021-12-23 03:30:00, 2021-12-23 04:00:00) 2021-12-23 03:30:00+00:00   \n",
       "[2021-12-23 05:00:00, 2021-12-23 05:30:00) 2021-12-23 05:00:00+00:00   \n",
       "[2021-12-23 05:30:00, 2021-12-23 06:00:00) 2021-12-23 05:30:00+00:00   \n",
       "[2021-12-23 06:00:00, 2021-12-23 06:30:00) 2021-12-23 06:00:00+00:00   \n",
       "[2021-12-23 06:30:00, 2021-12-23 07:00:00) 2021-12-23 06:30:00+00:00   \n",
       "[2021-12-23 07:00:00, 2021-12-23 07:30:00) 2021-12-23 07:00:00+00:00   \n",
       "[2021-12-23 07:30:00, 2021-12-23 08:00:00) 2021-12-23 07:30:00+00:00   \n",
       "\n",
       "                                                          right_side  \n",
       "IntervalIndex                                                         \n",
       "[2021-12-23 01:30:00, 2021-12-23 02:00:00) 2021-12-23 02:00:00+00:00  \n",
       "[2021-12-23 02:00:00, 2021-12-23 02:30:00) 2021-12-23 02:30:00+00:00  \n",
       "[2021-12-23 02:30:00, 2021-12-23 03:00:00) 2021-12-23 03:00:00+00:00  \n",
       "[2021-12-23 03:00:00, 2021-12-23 03:30:00) 2021-12-23 03:30:00+00:00  \n",
       "[2021-12-23 03:30:00, 2021-12-23 04:00:00) 2021-12-23 04:00:00+00:00  \n",
       "[2021-12-23 05:00:00, 2021-12-23 05:30:00) 2021-12-23 05:30:00+00:00  \n",
       "[2021-12-23 05:30:00, 2021-12-23 06:00:00) 2021-12-23 06:00:00+00:00  \n",
       "[2021-12-23 06:00:00, 2021-12-23 06:30:00) 2021-12-23 06:30:00+00:00  \n",
       "[2021-12-23 06:30:00, 2021-12-23 07:00:00) 2021-12-23 07:00:00+00:00  \n",
       "[2021-12-23 07:00:00, 2021-12-23 07:30:00) 2021-12-23 07:30:00+00:00  \n",
       "[2021-12-23 07:30:00, 2021-12-23 08:00:00) 2021-12-23 08:00:00+00:00  "
      ]
     },
     "execution_count": 33,
     "metadata": {},
     "output_type": "execute_result"
    }
   ],
   "source": [
    "index = hkg.trading_index(start, start, \"30T\")\n",
    "show_as_df(index)"
   ]
  },
  {
   "cell_type": "markdown",
   "metadata": {},
   "source": [
    "Passing `ignore_breaks` as True will include indices through any break."
   ]
  },
  {
   "cell_type": "code",
   "execution_count": 34,
   "metadata": {},
   "outputs": [
    {
     "data": {
      "text/html": [
       "<div>\n",
       "<style scoped>\n",
       "    .dataframe tbody tr th:only-of-type {\n",
       "        vertical-align: middle;\n",
       "    }\n",
       "\n",
       "    .dataframe tbody tr th {\n",
       "        vertical-align: top;\n",
       "    }\n",
       "\n",
       "    .dataframe thead th {\n",
       "        text-align: right;\n",
       "    }\n",
       "</style>\n",
       "<table border=\"1\" class=\"dataframe\">\n",
       "  <thead>\n",
       "    <tr style=\"text-align: right;\">\n",
       "      <th></th>\n",
       "      <th>left_side</th>\n",
       "      <th>right_side</th>\n",
       "    </tr>\n",
       "    <tr>\n",
       "      <th>IntervalIndex</th>\n",
       "      <th></th>\n",
       "      <th></th>\n",
       "    </tr>\n",
       "  </thead>\n",
       "  <tbody>\n",
       "    <tr>\n",
       "      <th>[2021-12-23 01:30:00, 2021-12-23 02:00:00)</th>\n",
       "      <td>2021-12-23 01:30:00+00:00</td>\n",
       "      <td>2021-12-23 02:00:00+00:00</td>\n",
       "    </tr>\n",
       "    <tr>\n",
       "      <th>[2021-12-23 02:00:00, 2021-12-23 02:30:00)</th>\n",
       "      <td>2021-12-23 02:00:00+00:00</td>\n",
       "      <td>2021-12-23 02:30:00+00:00</td>\n",
       "    </tr>\n",
       "    <tr>\n",
       "      <th>[2021-12-23 02:30:00, 2021-12-23 03:00:00)</th>\n",
       "      <td>2021-12-23 02:30:00+00:00</td>\n",
       "      <td>2021-12-23 03:00:00+00:00</td>\n",
       "    </tr>\n",
       "    <tr>\n",
       "      <th>[2021-12-23 03:00:00, 2021-12-23 03:30:00)</th>\n",
       "      <td>2021-12-23 03:00:00+00:00</td>\n",
       "      <td>2021-12-23 03:30:00+00:00</td>\n",
       "    </tr>\n",
       "    <tr>\n",
       "      <th>[2021-12-23 03:30:00, 2021-12-23 04:00:00)</th>\n",
       "      <td>2021-12-23 03:30:00+00:00</td>\n",
       "      <td>2021-12-23 04:00:00+00:00</td>\n",
       "    </tr>\n",
       "    <tr>\n",
       "      <th>[2021-12-23 04:00:00, 2021-12-23 04:30:00)</th>\n",
       "      <td>2021-12-23 04:00:00+00:00</td>\n",
       "      <td>2021-12-23 04:30:00+00:00</td>\n",
       "    </tr>\n",
       "    <tr>\n",
       "      <th>[2021-12-23 04:30:00, 2021-12-23 05:00:00)</th>\n",
       "      <td>2021-12-23 04:30:00+00:00</td>\n",
       "      <td>2021-12-23 05:00:00+00:00</td>\n",
       "    </tr>\n",
       "    <tr>\n",
       "      <th>[2021-12-23 05:00:00, 2021-12-23 05:30:00)</th>\n",
       "      <td>2021-12-23 05:00:00+00:00</td>\n",
       "      <td>2021-12-23 05:30:00+00:00</td>\n",
       "    </tr>\n",
       "    <tr>\n",
       "      <th>[2021-12-23 05:30:00, 2021-12-23 06:00:00)</th>\n",
       "      <td>2021-12-23 05:30:00+00:00</td>\n",
       "      <td>2021-12-23 06:00:00+00:00</td>\n",
       "    </tr>\n",
       "    <tr>\n",
       "      <th>[2021-12-23 06:00:00, 2021-12-23 06:30:00)</th>\n",
       "      <td>2021-12-23 06:00:00+00:00</td>\n",
       "      <td>2021-12-23 06:30:00+00:00</td>\n",
       "    </tr>\n",
       "    <tr>\n",
       "      <th>[2021-12-23 06:30:00, 2021-12-23 07:00:00)</th>\n",
       "      <td>2021-12-23 06:30:00+00:00</td>\n",
       "      <td>2021-12-23 07:00:00+00:00</td>\n",
       "    </tr>\n",
       "    <tr>\n",
       "      <th>[2021-12-23 07:00:00, 2021-12-23 07:30:00)</th>\n",
       "      <td>2021-12-23 07:00:00+00:00</td>\n",
       "      <td>2021-12-23 07:30:00+00:00</td>\n",
       "    </tr>\n",
       "    <tr>\n",
       "      <th>[2021-12-23 07:30:00, 2021-12-23 08:00:00)</th>\n",
       "      <td>2021-12-23 07:30:00+00:00</td>\n",
       "      <td>2021-12-23 08:00:00+00:00</td>\n",
       "    </tr>\n",
       "  </tbody>\n",
       "</table>\n",
       "</div>"
      ],
      "text/plain": [
       "                                                           left_side  \\\n",
       "IntervalIndex                                                          \n",
       "[2021-12-23 01:30:00, 2021-12-23 02:00:00) 2021-12-23 01:30:00+00:00   \n",
       "[2021-12-23 02:00:00, 2021-12-23 02:30:00) 2021-12-23 02:00:00+00:00   \n",
       "[2021-12-23 02:30:00, 2021-12-23 03:00:00) 2021-12-23 02:30:00+00:00   \n",
       "[2021-12-23 03:00:00, 2021-12-23 03:30:00) 2021-12-23 03:00:00+00:00   \n",
       "[2021-12-23 03:30:00, 2021-12-23 04:00:00) 2021-12-23 03:30:00+00:00   \n",
       "[2021-12-23 04:00:00, 2021-12-23 04:30:00) 2021-12-23 04:00:00+00:00   \n",
       "[2021-12-23 04:30:00, 2021-12-23 05:00:00) 2021-12-23 04:30:00+00:00   \n",
       "[2021-12-23 05:00:00, 2021-12-23 05:30:00) 2021-12-23 05:00:00+00:00   \n",
       "[2021-12-23 05:30:00, 2021-12-23 06:00:00) 2021-12-23 05:30:00+00:00   \n",
       "[2021-12-23 06:00:00, 2021-12-23 06:30:00) 2021-12-23 06:00:00+00:00   \n",
       "[2021-12-23 06:30:00, 2021-12-23 07:00:00) 2021-12-23 06:30:00+00:00   \n",
       "[2021-12-23 07:00:00, 2021-12-23 07:30:00) 2021-12-23 07:00:00+00:00   \n",
       "[2021-12-23 07:30:00, 2021-12-23 08:00:00) 2021-12-23 07:30:00+00:00   \n",
       "\n",
       "                                                          right_side  \n",
       "IntervalIndex                                                         \n",
       "[2021-12-23 01:30:00, 2021-12-23 02:00:00) 2021-12-23 02:00:00+00:00  \n",
       "[2021-12-23 02:00:00, 2021-12-23 02:30:00) 2021-12-23 02:30:00+00:00  \n",
       "[2021-12-23 02:30:00, 2021-12-23 03:00:00) 2021-12-23 03:00:00+00:00  \n",
       "[2021-12-23 03:00:00, 2021-12-23 03:30:00) 2021-12-23 03:30:00+00:00  \n",
       "[2021-12-23 03:30:00, 2021-12-23 04:00:00) 2021-12-23 04:00:00+00:00  \n",
       "[2021-12-23 04:00:00, 2021-12-23 04:30:00) 2021-12-23 04:30:00+00:00  \n",
       "[2021-12-23 04:30:00, 2021-12-23 05:00:00) 2021-12-23 05:00:00+00:00  \n",
       "[2021-12-23 05:00:00, 2021-12-23 05:30:00) 2021-12-23 05:30:00+00:00  \n",
       "[2021-12-23 05:30:00, 2021-12-23 06:00:00) 2021-12-23 06:00:00+00:00  \n",
       "[2021-12-23 06:00:00, 2021-12-23 06:30:00) 2021-12-23 06:30:00+00:00  \n",
       "[2021-12-23 06:30:00, 2021-12-23 07:00:00) 2021-12-23 07:00:00+00:00  \n",
       "[2021-12-23 07:00:00, 2021-12-23 07:30:00) 2021-12-23 07:30:00+00:00  \n",
       "[2021-12-23 07:30:00, 2021-12-23 08:00:00) 2021-12-23 08:00:00+00:00  "
      ]
     },
     "execution_count": 34,
     "metadata": {},
     "output_type": "execute_result"
    }
   ],
   "source": [
    "index = hkg.trading_index(start, start, \"30T\", ignore_breaks=True)\n",
    "show_as_df(index)"
   ]
  },
  {
   "cell_type": "markdown",
   "metadata": {},
   "source": [
    "In the above example the start of the afternoon session (05.00) is preserved as an indice only because it falls 'on frequency'. This won't be the case for all periods."
   ]
  },
  {
   "cell_type": "code",
   "execution_count": 35,
   "metadata": {},
   "outputs": [
    {
     "data": {
      "text/html": [
       "<div>\n",
       "<style scoped>\n",
       "    .dataframe tbody tr th:only-of-type {\n",
       "        vertical-align: middle;\n",
       "    }\n",
       "\n",
       "    .dataframe tbody tr th {\n",
       "        vertical-align: top;\n",
       "    }\n",
       "\n",
       "    .dataframe thead th {\n",
       "        text-align: right;\n",
       "    }\n",
       "</style>\n",
       "<table border=\"1\" class=\"dataframe\">\n",
       "  <thead>\n",
       "    <tr style=\"text-align: right;\">\n",
       "      <th></th>\n",
       "      <th>left_side</th>\n",
       "      <th>right_side</th>\n",
       "    </tr>\n",
       "    <tr>\n",
       "      <th>IntervalIndex</th>\n",
       "      <th></th>\n",
       "      <th></th>\n",
       "    </tr>\n",
       "  </thead>\n",
       "  <tbody>\n",
       "    <tr>\n",
       "      <th>[2021-12-23 01:30:00, 2021-12-23 02:30:00)</th>\n",
       "      <td>2021-12-23 01:30:00+00:00</td>\n",
       "      <td>2021-12-23 02:30:00+00:00</td>\n",
       "    </tr>\n",
       "    <tr>\n",
       "      <th>[2021-12-23 02:30:00, 2021-12-23 03:30:00)</th>\n",
       "      <td>2021-12-23 02:30:00+00:00</td>\n",
       "      <td>2021-12-23 03:30:00+00:00</td>\n",
       "    </tr>\n",
       "    <tr>\n",
       "      <th>[2021-12-23 03:30:00, 2021-12-23 04:30:00)</th>\n",
       "      <td>2021-12-23 03:30:00+00:00</td>\n",
       "      <td>2021-12-23 04:30:00+00:00</td>\n",
       "    </tr>\n",
       "    <tr>\n",
       "      <th>[2021-12-23 04:30:00, 2021-12-23 05:30:00)</th>\n",
       "      <td>2021-12-23 04:30:00+00:00</td>\n",
       "      <td>2021-12-23 05:30:00+00:00</td>\n",
       "    </tr>\n",
       "    <tr>\n",
       "      <th>[2021-12-23 05:30:00, 2021-12-23 06:30:00)</th>\n",
       "      <td>2021-12-23 05:30:00+00:00</td>\n",
       "      <td>2021-12-23 06:30:00+00:00</td>\n",
       "    </tr>\n",
       "    <tr>\n",
       "      <th>[2021-12-23 06:30:00, 2021-12-23 07:30:00)</th>\n",
       "      <td>2021-12-23 06:30:00+00:00</td>\n",
       "      <td>2021-12-23 07:30:00+00:00</td>\n",
       "    </tr>\n",
       "    <tr>\n",
       "      <th>[2021-12-23 07:30:00, 2021-12-23 08:30:00)</th>\n",
       "      <td>2021-12-23 07:30:00+00:00</td>\n",
       "      <td>2021-12-23 08:30:00+00:00</td>\n",
       "    </tr>\n",
       "  </tbody>\n",
       "</table>\n",
       "</div>"
      ],
      "text/plain": [
       "                                                           left_side  \\\n",
       "IntervalIndex                                                          \n",
       "[2021-12-23 01:30:00, 2021-12-23 02:30:00) 2021-12-23 01:30:00+00:00   \n",
       "[2021-12-23 02:30:00, 2021-12-23 03:30:00) 2021-12-23 02:30:00+00:00   \n",
       "[2021-12-23 03:30:00, 2021-12-23 04:30:00) 2021-12-23 03:30:00+00:00   \n",
       "[2021-12-23 04:30:00, 2021-12-23 05:30:00) 2021-12-23 04:30:00+00:00   \n",
       "[2021-12-23 05:30:00, 2021-12-23 06:30:00) 2021-12-23 05:30:00+00:00   \n",
       "[2021-12-23 06:30:00, 2021-12-23 07:30:00) 2021-12-23 06:30:00+00:00   \n",
       "[2021-12-23 07:30:00, 2021-12-23 08:30:00) 2021-12-23 07:30:00+00:00   \n",
       "\n",
       "                                                          right_side  \n",
       "IntervalIndex                                                         \n",
       "[2021-12-23 01:30:00, 2021-12-23 02:30:00) 2021-12-23 02:30:00+00:00  \n",
       "[2021-12-23 02:30:00, 2021-12-23 03:30:00) 2021-12-23 03:30:00+00:00  \n",
       "[2021-12-23 03:30:00, 2021-12-23 04:30:00) 2021-12-23 04:30:00+00:00  \n",
       "[2021-12-23 04:30:00, 2021-12-23 05:30:00) 2021-12-23 05:30:00+00:00  \n",
       "[2021-12-23 05:30:00, 2021-12-23 06:30:00) 2021-12-23 06:30:00+00:00  \n",
       "[2021-12-23 06:30:00, 2021-12-23 07:30:00) 2021-12-23 07:30:00+00:00  \n",
       "[2021-12-23 07:30:00, 2021-12-23 08:30:00) 2021-12-23 08:30:00+00:00  "
      ]
     },
     "execution_count": 35,
     "metadata": {},
     "output_type": "execute_result"
    }
   ],
   "source": [
    "index = hkg.trading_index(start, start, \"1H\", ignore_breaks=True)\n",
    "show_as_df(index)"
   ]
  },
  {
   "cell_type": "markdown",
   "metadata": {},
   "source": [
    "### `Overlapping indices`"
   ]
  },
  {
   "cell_type": "markdown",
   "metadata": {},
   "source": [
    "Now, if you've been playing with `trading_index` as you've worked through this tutorial and you've managed to get this far without raising an error, then you just haven't been trying hard enough..."
   ]
  },
  {
   "cell_type": "code",
   "execution_count": 36,
   "metadata": {},
   "outputs": [
    {
     "data": {
      "text/plain": [
       "IntervalIndex([[2021-12-23 01:30:00, 2021-12-23 03:15:00), [2021-12-23 03:15:00, 2021-12-23 05:00:00), [2021-12-23 05:00:00, 2021-12-23 06:45:00), [2021-12-23 06:45:00, 2021-12-23 08:30:00)],\n",
       "              closed='left',\n",
       "              dtype='interval[datetime64[ns, UTC]]')"
      ]
     },
     "execution_count": 36,
     "metadata": {},
     "output_type": "execute_result"
    }
   ],
   "source": [
    "period_105 = hkg.trading_index(start, start, \"105T\")\n",
    "period_105"
   ]
  },
  {
   "cell_type": "markdown",
   "metadata": {},
   "source": [
    "Just one more minute..."
   ]
  },
  {
   "cell_type": "code",
   "execution_count": null,
   "metadata": {},
   "outputs": [],
   "source": [
    "period_106 = hkg.trading_index(start, start, \"106T\")\n",
    "# Run call for full traceback"
   ]
  },
  {
   "cell_type": "markdown",
   "metadata": {},
   "source": [
    "```python\n",
    "---------------------------------------------------------------------------\n",
    "IntervalsOverlapError                     Traceback (most recent call last)\n",
    "~\\AppData\\Local\\Temp/ipykernel_16260/3133521167.py in <module>\n",
    "----> 1 period_106 = hkg.trading_index(start, start, \"106T\")\n",
    "\n",
    "IntervalsOverlapError: Unable to create trading index as intervals would overlap. This can occur when the frequency is longer than a break or the gap between one session's close and the next session's open. To shorten intervals that would otherwise overlap either pass `curtail_overlaps` as True or pass `force_close` and/or `force_break_close` as True.\n",
    "```"
   ]
  },
  {
   "cell_type": "markdown",
   "metadata": {},
   "source": [
    "What happened? The error message pretty much explains it. Lets have a better look at the index with the 105 minutes period."
   ]
  },
  {
   "cell_type": "code",
   "execution_count": 38,
   "metadata": {},
   "outputs": [
    {
     "data": {
      "text/html": [
       "<div>\n",
       "<style scoped>\n",
       "    .dataframe tbody tr th:only-of-type {\n",
       "        vertical-align: middle;\n",
       "    }\n",
       "\n",
       "    .dataframe tbody tr th {\n",
       "        vertical-align: top;\n",
       "    }\n",
       "\n",
       "    .dataframe thead th {\n",
       "        text-align: right;\n",
       "    }\n",
       "</style>\n",
       "<table border=\"1\" class=\"dataframe\">\n",
       "  <thead>\n",
       "    <tr style=\"text-align: right;\">\n",
       "      <th></th>\n",
       "      <th>left_side</th>\n",
       "      <th>right_side</th>\n",
       "    </tr>\n",
       "    <tr>\n",
       "      <th>IntervalIndex</th>\n",
       "      <th></th>\n",
       "      <th></th>\n",
       "    </tr>\n",
       "  </thead>\n",
       "  <tbody>\n",
       "    <tr>\n",
       "      <th>[2021-12-23 01:30:00, 2021-12-23 03:15:00)</th>\n",
       "      <td>2021-12-23 01:30:00+00:00</td>\n",
       "      <td>2021-12-23 03:15:00+00:00</td>\n",
       "    </tr>\n",
       "    <tr>\n",
       "      <th>[2021-12-23 03:15:00, 2021-12-23 05:00:00)</th>\n",
       "      <td>2021-12-23 03:15:00+00:00</td>\n",
       "      <td>2021-12-23 05:00:00+00:00</td>\n",
       "    </tr>\n",
       "    <tr>\n",
       "      <th>[2021-12-23 05:00:00, 2021-12-23 06:45:00)</th>\n",
       "      <td>2021-12-23 05:00:00+00:00</td>\n",
       "      <td>2021-12-23 06:45:00+00:00</td>\n",
       "    </tr>\n",
       "    <tr>\n",
       "      <th>[2021-12-23 06:45:00, 2021-12-23 08:30:00)</th>\n",
       "      <td>2021-12-23 06:45:00+00:00</td>\n",
       "      <td>2021-12-23 08:30:00+00:00</td>\n",
       "    </tr>\n",
       "  </tbody>\n",
       "</table>\n",
       "</div>"
      ],
      "text/plain": [
       "                                                           left_side  \\\n",
       "IntervalIndex                                                          \n",
       "[2021-12-23 01:30:00, 2021-12-23 03:15:00) 2021-12-23 01:30:00+00:00   \n",
       "[2021-12-23 03:15:00, 2021-12-23 05:00:00) 2021-12-23 03:15:00+00:00   \n",
       "[2021-12-23 05:00:00, 2021-12-23 06:45:00) 2021-12-23 05:00:00+00:00   \n",
       "[2021-12-23 06:45:00, 2021-12-23 08:30:00) 2021-12-23 06:45:00+00:00   \n",
       "\n",
       "                                                          right_side  \n",
       "IntervalIndex                                                         \n",
       "[2021-12-23 01:30:00, 2021-12-23 03:15:00) 2021-12-23 03:15:00+00:00  \n",
       "[2021-12-23 03:15:00, 2021-12-23 05:00:00) 2021-12-23 05:00:00+00:00  \n",
       "[2021-12-23 05:00:00, 2021-12-23 06:45:00) 2021-12-23 06:45:00+00:00  \n",
       "[2021-12-23 06:45:00, 2021-12-23 08:30:00) 2021-12-23 08:30:00+00:00  "
      ]
     },
     "execution_count": 38,
     "metadata": {},
     "output_type": "execute_result"
    }
   ],
   "source": [
    "show_as_df(period_105)"
   ]
  },
  {
   "cell_type": "markdown",
   "metadata": {},
   "source": [
    "See how the right side of the second indice (the last indice of the morning subsession) has bumped right up against the left side of the third indice (the first indice of the afternoon subsession). The indices don't overlap because all the intervals are all `closed` on the \"left\" (by default), so the exact instance '2021-12-23 05:00:00' is present in the third indice..."
   ]
  },
  {
   "cell_type": "code",
   "execution_count": 39,
   "metadata": {},
   "outputs": [
    {
     "data": {
      "text/plain": [
       "True"
      ]
     },
     "execution_count": 39,
     "metadata": {},
     "output_type": "execute_result"
    }
   ],
   "source": [
    "pd.Timestamp('2021-12-23 05:00:00', tz=\"UTC\") in period_105[2]"
   ]
  },
  {
   "cell_type": "markdown",
   "metadata": {},
   "source": [
    "...but not the second."
   ]
  },
  {
   "cell_type": "code",
   "execution_count": 40,
   "metadata": {},
   "outputs": [
    {
     "data": {
      "text/plain": [
       "False"
      ]
     },
     "execution_count": 40,
     "metadata": {},
     "output_type": "execute_result"
    }
   ],
   "source": [
    "pd.Timestamp('2021-12-23 05:00:00', tz=\"UTC\") in period_105[1]"
   ]
  },
  {
   "cell_type": "markdown",
   "metadata": {},
   "source": [
    "However, add just one more minute to the period length and these indices overlap, hence the `IntervalsOverlapError`. As noted in the error message, the overlap can be prevented by forcing close on the break."
   ]
  },
  {
   "cell_type": "code",
   "execution_count": 41,
   "metadata": {},
   "outputs": [
    {
     "data": {
      "text/html": [
       "<div>\n",
       "<style scoped>\n",
       "    .dataframe tbody tr th:only-of-type {\n",
       "        vertical-align: middle;\n",
       "    }\n",
       "\n",
       "    .dataframe tbody tr th {\n",
       "        vertical-align: top;\n",
       "    }\n",
       "\n",
       "    .dataframe thead th {\n",
       "        text-align: right;\n",
       "    }\n",
       "</style>\n",
       "<table border=\"1\" class=\"dataframe\">\n",
       "  <thead>\n",
       "    <tr style=\"text-align: right;\">\n",
       "      <th></th>\n",
       "      <th>left_side</th>\n",
       "      <th>right_side</th>\n",
       "    </tr>\n",
       "    <tr>\n",
       "      <th>IntervalIndex</th>\n",
       "      <th></th>\n",
       "      <th></th>\n",
       "    </tr>\n",
       "  </thead>\n",
       "  <tbody>\n",
       "    <tr>\n",
       "      <th>[2021-12-23 01:30:00, 2021-12-23 03:16:00)</th>\n",
       "      <td>2021-12-23 01:30:00+00:00</td>\n",
       "      <td>2021-12-23 03:16:00+00:00</td>\n",
       "    </tr>\n",
       "    <tr>\n",
       "      <th>[2021-12-23 03:16:00, 2021-12-23 04:00:00)</th>\n",
       "      <td>2021-12-23 03:16:00+00:00</td>\n",
       "      <td>2021-12-23 04:00:00+00:00</td>\n",
       "    </tr>\n",
       "    <tr>\n",
       "      <th>[2021-12-23 05:00:00, 2021-12-23 06:46:00)</th>\n",
       "      <td>2021-12-23 05:00:00+00:00</td>\n",
       "      <td>2021-12-23 06:46:00+00:00</td>\n",
       "    </tr>\n",
       "    <tr>\n",
       "      <th>[2021-12-23 06:46:00, 2021-12-23 08:32:00)</th>\n",
       "      <td>2021-12-23 06:46:00+00:00</td>\n",
       "      <td>2021-12-23 08:32:00+00:00</td>\n",
       "    </tr>\n",
       "  </tbody>\n",
       "</table>\n",
       "</div>"
      ],
      "text/plain": [
       "                                                           left_side  \\\n",
       "IntervalIndex                                                          \n",
       "[2021-12-23 01:30:00, 2021-12-23 03:16:00) 2021-12-23 01:30:00+00:00   \n",
       "[2021-12-23 03:16:00, 2021-12-23 04:00:00) 2021-12-23 03:16:00+00:00   \n",
       "[2021-12-23 05:00:00, 2021-12-23 06:46:00) 2021-12-23 05:00:00+00:00   \n",
       "[2021-12-23 06:46:00, 2021-12-23 08:32:00) 2021-12-23 06:46:00+00:00   \n",
       "\n",
       "                                                          right_side  \n",
       "IntervalIndex                                                         \n",
       "[2021-12-23 01:30:00, 2021-12-23 03:16:00) 2021-12-23 03:16:00+00:00  \n",
       "[2021-12-23 03:16:00, 2021-12-23 04:00:00) 2021-12-23 04:00:00+00:00  \n",
       "[2021-12-23 05:00:00, 2021-12-23 06:46:00) 2021-12-23 06:46:00+00:00  \n",
       "[2021-12-23 06:46:00, 2021-12-23 08:32:00) 2021-12-23 08:32:00+00:00  "
      ]
     },
     "execution_count": 41,
     "metadata": {},
     "output_type": "execute_result"
    }
   ],
   "source": [
    "show_as_df(hkg.trading_index(start, start, \"106T\", force_break_close=True))"
   ]
  },
  {
   "cell_type": "markdown",
   "metadata": {},
   "source": [
    "Or, `curtail_overlaps` can be passed as True to curtail overlapping indices. This has the effect of curtailing the right side of the earlier of the overlapping indices to the left side of the latter."
   ]
  },
  {
   "cell_type": "code",
   "execution_count": 42,
   "metadata": {},
   "outputs": [
    {
     "data": {
      "text/html": [
       "<div>\n",
       "<style scoped>\n",
       "    .dataframe tbody tr th:only-of-type {\n",
       "        vertical-align: middle;\n",
       "    }\n",
       "\n",
       "    .dataframe tbody tr th {\n",
       "        vertical-align: top;\n",
       "    }\n",
       "\n",
       "    .dataframe thead th {\n",
       "        text-align: right;\n",
       "    }\n",
       "</style>\n",
       "<table border=\"1\" class=\"dataframe\">\n",
       "  <thead>\n",
       "    <tr style=\"text-align: right;\">\n",
       "      <th></th>\n",
       "      <th>left_side</th>\n",
       "      <th>right_side</th>\n",
       "    </tr>\n",
       "    <tr>\n",
       "      <th>IntervalIndex</th>\n",
       "      <th></th>\n",
       "      <th></th>\n",
       "    </tr>\n",
       "  </thead>\n",
       "  <tbody>\n",
       "    <tr>\n",
       "      <th>[2021-12-23 01:30:00, 2021-12-23 03:21:00)</th>\n",
       "      <td>2021-12-23 01:30:00+00:00</td>\n",
       "      <td>2021-12-23 03:21:00+00:00</td>\n",
       "    </tr>\n",
       "    <tr>\n",
       "      <th>[2021-12-23 03:21:00, 2021-12-23 05:00:00)</th>\n",
       "      <td>2021-12-23 03:21:00+00:00</td>\n",
       "      <td>2021-12-23 05:00:00+00:00</td>\n",
       "    </tr>\n",
       "    <tr>\n",
       "      <th>[2021-12-23 05:00:00, 2021-12-23 06:51:00)</th>\n",
       "      <td>2021-12-23 05:00:00+00:00</td>\n",
       "      <td>2021-12-23 06:51:00+00:00</td>\n",
       "    </tr>\n",
       "    <tr>\n",
       "      <th>[2021-12-23 06:51:00, 2021-12-23 08:42:00)</th>\n",
       "      <td>2021-12-23 06:51:00+00:00</td>\n",
       "      <td>2021-12-23 08:42:00+00:00</td>\n",
       "    </tr>\n",
       "  </tbody>\n",
       "</table>\n",
       "</div>"
      ],
      "text/plain": [
       "                                                           left_side  \\\n",
       "IntervalIndex                                                          \n",
       "[2021-12-23 01:30:00, 2021-12-23 03:21:00) 2021-12-23 01:30:00+00:00   \n",
       "[2021-12-23 03:21:00, 2021-12-23 05:00:00) 2021-12-23 03:21:00+00:00   \n",
       "[2021-12-23 05:00:00, 2021-12-23 06:51:00) 2021-12-23 05:00:00+00:00   \n",
       "[2021-12-23 06:51:00, 2021-12-23 08:42:00) 2021-12-23 06:51:00+00:00   \n",
       "\n",
       "                                                          right_side  \n",
       "IntervalIndex                                                         \n",
       "[2021-12-23 01:30:00, 2021-12-23 03:21:00) 2021-12-23 03:21:00+00:00  \n",
       "[2021-12-23 03:21:00, 2021-12-23 05:00:00) 2021-12-23 05:00:00+00:00  \n",
       "[2021-12-23 05:00:00, 2021-12-23 06:51:00) 2021-12-23 06:51:00+00:00  \n",
       "[2021-12-23 06:51:00, 2021-12-23 08:42:00) 2021-12-23 08:42:00+00:00  "
      ]
     },
     "execution_count": 42,
     "metadata": {},
     "output_type": "execute_result"
    }
   ],
   "source": [
    "index = hkg.trading_index(start, start, \"111T\", curtail_overlaps=True)\n",
    "show_as_df(index)"
   ]
  },
  {
   "cell_type": "markdown",
   "metadata": {},
   "source": [
    "Obviously this has the same effect as forcing the close in so much as the lengths of some indices will now be less than the passed `period`."
   ]
  },
  {
   "cell_type": "code",
   "execution_count": 43,
   "metadata": {},
   "outputs": [
    {
     "data": {
      "text/plain": [
       "TimedeltaIndex(['0 days 01:51:00', '0 days 01:39:00', '0 days 01:51:00',\n",
       "                '0 days 01:51:00'],\n",
       "               dtype='timedelta64[ns]', freq=None)"
      ]
     },
     "execution_count": 43,
     "metadata": {},
     "output_type": "execute_result"
    }
   ],
   "source": [
    "index.length"
   ]
  },
  {
   "cell_type": "markdown",
   "metadata": {},
   "source": [
    "**NB** that `curtail_overlaps` is only available if outputing as an `IntervalIndex` (if `intervals=False` then `curtail_overlaps` has no effect).\n",
    "\n",
    "Another option, not noted by the error message, can be to _increase_ the period. "
   ]
  },
  {
   "cell_type": "code",
   "execution_count": 44,
   "metadata": {},
   "outputs": [
    {
     "data": {
      "text/html": [
       "<div>\n",
       "<style scoped>\n",
       "    .dataframe tbody tr th:only-of-type {\n",
       "        vertical-align: middle;\n",
       "    }\n",
       "\n",
       "    .dataframe tbody tr th {\n",
       "        vertical-align: top;\n",
       "    }\n",
       "\n",
       "    .dataframe thead th {\n",
       "        text-align: right;\n",
       "    }\n",
       "</style>\n",
       "<table border=\"1\" class=\"dataframe\">\n",
       "  <thead>\n",
       "    <tr style=\"text-align: right;\">\n",
       "      <th></th>\n",
       "      <th>left_side</th>\n",
       "      <th>right_side</th>\n",
       "    </tr>\n",
       "    <tr>\n",
       "      <th>IntervalIndex</th>\n",
       "      <th></th>\n",
       "      <th></th>\n",
       "    </tr>\n",
       "  </thead>\n",
       "  <tbody>\n",
       "    <tr>\n",
       "      <th>[2021-12-23 01:30:00, 2021-12-23 04:00:00)</th>\n",
       "      <td>2021-12-23 01:30:00+00:00</td>\n",
       "      <td>2021-12-23 04:00:00+00:00</td>\n",
       "    </tr>\n",
       "    <tr>\n",
       "      <th>[2021-12-23 05:00:00, 2021-12-23 07:30:00)</th>\n",
       "      <td>2021-12-23 05:00:00+00:00</td>\n",
       "      <td>2021-12-23 07:30:00+00:00</td>\n",
       "    </tr>\n",
       "    <tr>\n",
       "      <th>[2021-12-23 07:30:00, 2021-12-23 10:00:00)</th>\n",
       "      <td>2021-12-23 07:30:00+00:00</td>\n",
       "      <td>2021-12-23 10:00:00+00:00</td>\n",
       "    </tr>\n",
       "  </tbody>\n",
       "</table>\n",
       "</div>"
      ],
      "text/plain": [
       "                                                           left_side  \\\n",
       "IntervalIndex                                                          \n",
       "[2021-12-23 01:30:00, 2021-12-23 04:00:00) 2021-12-23 01:30:00+00:00   \n",
       "[2021-12-23 05:00:00, 2021-12-23 07:30:00) 2021-12-23 05:00:00+00:00   \n",
       "[2021-12-23 07:30:00, 2021-12-23 10:00:00) 2021-12-23 07:30:00+00:00   \n",
       "\n",
       "                                                          right_side  \n",
       "IntervalIndex                                                         \n",
       "[2021-12-23 01:30:00, 2021-12-23 04:00:00) 2021-12-23 04:00:00+00:00  \n",
       "[2021-12-23 05:00:00, 2021-12-23 07:30:00) 2021-12-23 07:30:00+00:00  \n",
       "[2021-12-23 07:30:00, 2021-12-23 10:00:00) 2021-12-23 10:00:00+00:00  "
      ]
     },
     "execution_count": 44,
     "metadata": {},
     "output_type": "execute_result"
    }
   ],
   "source": [
    "show_as_df(hkg.trading_index(start, start, \"150T\"))"
   ]
  },
  {
   "cell_type": "markdown",
   "metadata": {},
   "source": [
    "(I'll leave it to you to work out what happened there.)\n",
    "\n",
    "The possibility for overlaps are not limited to calendars with lunch breaks. Overlaps can also occur when the right side of the last indice of one session falls later than the left side of the first indice of the next session. For a 24 hour calendar, like CMES, this will occur whenever the period is not a factor of 24 hours."
   ]
  },
  {
   "cell_type": "code",
   "execution_count": 45,
   "metadata": {},
   "outputs": [
    {
     "data": {
      "text/html": [
       "<div>\n",
       "<style scoped>\n",
       "    .dataframe tbody tr th:only-of-type {\n",
       "        vertical-align: middle;\n",
       "    }\n",
       "\n",
       "    .dataframe tbody tr th {\n",
       "        vertical-align: top;\n",
       "    }\n",
       "\n",
       "    .dataframe thead th {\n",
       "        text-align: right;\n",
       "    }\n",
       "</style>\n",
       "<table border=\"1\" class=\"dataframe\">\n",
       "  <thead>\n",
       "    <tr style=\"text-align: right;\">\n",
       "      <th></th>\n",
       "      <th>market_open</th>\n",
       "      <th>break_start</th>\n",
       "      <th>break_end</th>\n",
       "      <th>market_close</th>\n",
       "    </tr>\n",
       "  </thead>\n",
       "  <tbody>\n",
       "    <tr>\n",
       "      <th>2021-12-01 00:00:00+00:00</th>\n",
       "      <td>2021-11-30 23:00:00</td>\n",
       "      <td>NaT</td>\n",
       "      <td>NaT</td>\n",
       "      <td>2021-12-01 23:00:00</td>\n",
       "    </tr>\n",
       "    <tr>\n",
       "      <th>2021-12-02 00:00:00+00:00</th>\n",
       "      <td>2021-12-01 23:00:00</td>\n",
       "      <td>NaT</td>\n",
       "      <td>NaT</td>\n",
       "      <td>2021-12-02 23:00:00</td>\n",
       "    </tr>\n",
       "    <tr>\n",
       "      <th>2021-12-03 00:00:00+00:00</th>\n",
       "      <td>2021-12-02 23:00:00</td>\n",
       "      <td>NaT</td>\n",
       "      <td>NaT</td>\n",
       "      <td>2021-12-03 23:00:00</td>\n",
       "    </tr>\n",
       "  </tbody>\n",
       "</table>\n",
       "</div>"
      ],
      "text/plain": [
       "                                  market_open break_start break_end  \\\n",
       "2021-12-01 00:00:00+00:00 2021-11-30 23:00:00         NaT       NaT   \n",
       "2021-12-02 00:00:00+00:00 2021-12-01 23:00:00         NaT       NaT   \n",
       "2021-12-03 00:00:00+00:00 2021-12-02 23:00:00         NaT       NaT   \n",
       "\n",
       "                                 market_close  \n",
       "2021-12-01 00:00:00+00:00 2021-12-01 23:00:00  \n",
       "2021-12-02 00:00:00+00:00 2021-12-02 23:00:00  \n",
       "2021-12-03 00:00:00+00:00 2021-12-03 23:00:00  "
      ]
     },
     "execution_count": 45,
     "metadata": {},
     "output_type": "execute_result"
    }
   ],
   "source": [
    "# grab a 24-hour calendar\n",
    "cmes = xcals.get_calendar(\"CMES\")\n",
    "# for reference\n",
    "start24, end24 = \"2021-12-01\", \"2021-12-03\"\n",
    "cmes.schedule[start24:end24]"
   ]
  },
  {
   "cell_type": "markdown",
   "metadata": {},
   "source": [
    "8 hours is a factor of 24 hours..."
   ]
  },
  {
   "cell_type": "code",
   "execution_count": 46,
   "metadata": {},
   "outputs": [
    {
     "data": {
      "text/html": [
       "<div>\n",
       "<style scoped>\n",
       "    .dataframe tbody tr th:only-of-type {\n",
       "        vertical-align: middle;\n",
       "    }\n",
       "\n",
       "    .dataframe tbody tr th {\n",
       "        vertical-align: top;\n",
       "    }\n",
       "\n",
       "    .dataframe thead th {\n",
       "        text-align: right;\n",
       "    }\n",
       "</style>\n",
       "<table border=\"1\" class=\"dataframe\">\n",
       "  <thead>\n",
       "    <tr style=\"text-align: right;\">\n",
       "      <th></th>\n",
       "      <th>left_side</th>\n",
       "      <th>right_side</th>\n",
       "    </tr>\n",
       "    <tr>\n",
       "      <th>IntervalIndex</th>\n",
       "      <th></th>\n",
       "      <th></th>\n",
       "    </tr>\n",
       "  </thead>\n",
       "  <tbody>\n",
       "    <tr>\n",
       "      <th>[2021-11-30 23:00:00, 2021-12-01 07:00:00)</th>\n",
       "      <td>2021-11-30 23:00:00+00:00</td>\n",
       "      <td>2021-12-01 07:00:00+00:00</td>\n",
       "    </tr>\n",
       "    <tr>\n",
       "      <th>[2021-12-01 07:00:00, 2021-12-01 15:00:00)</th>\n",
       "      <td>2021-12-01 07:00:00+00:00</td>\n",
       "      <td>2021-12-01 15:00:00+00:00</td>\n",
       "    </tr>\n",
       "    <tr>\n",
       "      <th>[2021-12-01 15:00:00, 2021-12-01 23:00:00)</th>\n",
       "      <td>2021-12-01 15:00:00+00:00</td>\n",
       "      <td>2021-12-01 23:00:00+00:00</td>\n",
       "    </tr>\n",
       "    <tr>\n",
       "      <th>[2021-12-01 23:00:00, 2021-12-02 07:00:00)</th>\n",
       "      <td>2021-12-01 23:00:00+00:00</td>\n",
       "      <td>2021-12-02 07:00:00+00:00</td>\n",
       "    </tr>\n",
       "    <tr>\n",
       "      <th>[2021-12-02 07:00:00, 2021-12-02 15:00:00)</th>\n",
       "      <td>2021-12-02 07:00:00+00:00</td>\n",
       "      <td>2021-12-02 15:00:00+00:00</td>\n",
       "    </tr>\n",
       "    <tr>\n",
       "      <th>[2021-12-02 15:00:00, 2021-12-02 23:00:00)</th>\n",
       "      <td>2021-12-02 15:00:00+00:00</td>\n",
       "      <td>2021-12-02 23:00:00+00:00</td>\n",
       "    </tr>\n",
       "    <tr>\n",
       "      <th>[2021-12-02 23:00:00, 2021-12-03 07:00:00)</th>\n",
       "      <td>2021-12-02 23:00:00+00:00</td>\n",
       "      <td>2021-12-03 07:00:00+00:00</td>\n",
       "    </tr>\n",
       "    <tr>\n",
       "      <th>[2021-12-03 07:00:00, 2021-12-03 15:00:00)</th>\n",
       "      <td>2021-12-03 07:00:00+00:00</td>\n",
       "      <td>2021-12-03 15:00:00+00:00</td>\n",
       "    </tr>\n",
       "    <tr>\n",
       "      <th>[2021-12-03 15:00:00, 2021-12-03 23:00:00)</th>\n",
       "      <td>2021-12-03 15:00:00+00:00</td>\n",
       "      <td>2021-12-03 23:00:00+00:00</td>\n",
       "    </tr>\n",
       "  </tbody>\n",
       "</table>\n",
       "</div>"
      ],
      "text/plain": [
       "                                                           left_side  \\\n",
       "IntervalIndex                                                          \n",
       "[2021-11-30 23:00:00, 2021-12-01 07:00:00) 2021-11-30 23:00:00+00:00   \n",
       "[2021-12-01 07:00:00, 2021-12-01 15:00:00) 2021-12-01 07:00:00+00:00   \n",
       "[2021-12-01 15:00:00, 2021-12-01 23:00:00) 2021-12-01 15:00:00+00:00   \n",
       "[2021-12-01 23:00:00, 2021-12-02 07:00:00) 2021-12-01 23:00:00+00:00   \n",
       "[2021-12-02 07:00:00, 2021-12-02 15:00:00) 2021-12-02 07:00:00+00:00   \n",
       "[2021-12-02 15:00:00, 2021-12-02 23:00:00) 2021-12-02 15:00:00+00:00   \n",
       "[2021-12-02 23:00:00, 2021-12-03 07:00:00) 2021-12-02 23:00:00+00:00   \n",
       "[2021-12-03 07:00:00, 2021-12-03 15:00:00) 2021-12-03 07:00:00+00:00   \n",
       "[2021-12-03 15:00:00, 2021-12-03 23:00:00) 2021-12-03 15:00:00+00:00   \n",
       "\n",
       "                                                          right_side  \n",
       "IntervalIndex                                                         \n",
       "[2021-11-30 23:00:00, 2021-12-01 07:00:00) 2021-12-01 07:00:00+00:00  \n",
       "[2021-12-01 07:00:00, 2021-12-01 15:00:00) 2021-12-01 15:00:00+00:00  \n",
       "[2021-12-01 15:00:00, 2021-12-01 23:00:00) 2021-12-01 23:00:00+00:00  \n",
       "[2021-12-01 23:00:00, 2021-12-02 07:00:00) 2021-12-02 07:00:00+00:00  \n",
       "[2021-12-02 07:00:00, 2021-12-02 15:00:00) 2021-12-02 15:00:00+00:00  \n",
       "[2021-12-02 15:00:00, 2021-12-02 23:00:00) 2021-12-02 23:00:00+00:00  \n",
       "[2021-12-02 23:00:00, 2021-12-03 07:00:00) 2021-12-03 07:00:00+00:00  \n",
       "[2021-12-03 07:00:00, 2021-12-03 15:00:00) 2021-12-03 15:00:00+00:00  \n",
       "[2021-12-03 15:00:00, 2021-12-03 23:00:00) 2021-12-03 23:00:00+00:00  "
      ]
     },
     "execution_count": 46,
     "metadata": {},
     "output_type": "execute_result"
    }
   ],
   "source": [
    "show_as_df(cmes.trading_index(start24, end24, \"8H\"))"
   ]
  },
  {
   "cell_type": "markdown",
   "metadata": {},
   "source": [
    "but 7 minutes is not..."
   ]
  },
  {
   "cell_type": "code",
   "execution_count": null,
   "metadata": {},
   "outputs": [],
   "source": [
    "cmes.trading_index(start24, end24, \"7T\")\n",
    "# Run cell for full traceback"
   ]
  },
  {
   "cell_type": "markdown",
   "metadata": {},
   "source": [
    "```python\n",
    "---------------------------------------------------------------------------\n",
    "IntervalsOverlapError                     Traceback (most recent call last)\n",
    "~\\AppData\\Local\\Temp/ipykernel_16260/821017084.py in <module>\n",
    "----> 1 cmes.trading_index(start24, end24, \"7T\")\n",
    "\n",
    "IntervalsOverlapError: Unable to create trading index as intervals would overlap. This can occur when the frequency is longer than a break or the gap between one session's close and the next session's open. To shorten intervals that would otherwise overlap either pass `curtail_overlaps` as True or pass `force_close` and/or `force_break_close` as True.\n",
    "```"
   ]
  },
  {
   "cell_type": "code",
   "execution_count": 48,
   "metadata": {},
   "outputs": [
    {
     "data": {
      "text/html": [
       "<div>\n",
       "<style scoped>\n",
       "    .dataframe tbody tr th:only-of-type {\n",
       "        vertical-align: middle;\n",
       "    }\n",
       "\n",
       "    .dataframe tbody tr th {\n",
       "        vertical-align: top;\n",
       "    }\n",
       "\n",
       "    .dataframe thead th {\n",
       "        text-align: right;\n",
       "    }\n",
       "</style>\n",
       "<table border=\"1\" class=\"dataframe\">\n",
       "  <thead>\n",
       "    <tr style=\"text-align: right;\">\n",
       "      <th></th>\n",
       "      <th>left_side</th>\n",
       "      <th>right_side</th>\n",
       "    </tr>\n",
       "    <tr>\n",
       "      <th>IntervalIndex</th>\n",
       "      <th></th>\n",
       "      <th></th>\n",
       "    </tr>\n",
       "  </thead>\n",
       "  <tbody>\n",
       "    <tr>\n",
       "      <th>[2021-12-22 23:00:00, 2021-12-22 23:07:00)</th>\n",
       "      <td>2021-12-22 23:00:00+00:00</td>\n",
       "      <td>2021-12-22 23:07:00+00:00</td>\n",
       "    </tr>\n",
       "    <tr>\n",
       "      <th>[2021-12-22 23:07:00, 2021-12-22 23:14:00)</th>\n",
       "      <td>2021-12-22 23:07:00+00:00</td>\n",
       "      <td>2021-12-22 23:14:00+00:00</td>\n",
       "    </tr>\n",
       "    <tr>\n",
       "      <th>[2021-12-22 23:14:00, 2021-12-22 23:21:00)</th>\n",
       "      <td>2021-12-22 23:14:00+00:00</td>\n",
       "      <td>2021-12-22 23:21:00+00:00</td>\n",
       "    </tr>\n",
       "    <tr>\n",
       "      <th>[2021-12-22 23:21:00, 2021-12-22 23:28:00)</th>\n",
       "      <td>2021-12-22 23:21:00+00:00</td>\n",
       "      <td>2021-12-22 23:28:00+00:00</td>\n",
       "    </tr>\n",
       "    <tr>\n",
       "      <th>[2021-12-22 23:28:00, 2021-12-22 23:35:00)</th>\n",
       "      <td>2021-12-22 23:28:00+00:00</td>\n",
       "      <td>2021-12-22 23:35:00+00:00</td>\n",
       "    </tr>\n",
       "    <tr>\n",
       "      <th>...</th>\n",
       "      <td>...</td>\n",
       "      <td>...</td>\n",
       "    </tr>\n",
       "    <tr>\n",
       "      <th>[2021-12-28 22:27:00, 2021-12-28 22:34:00)</th>\n",
       "      <td>2021-12-28 22:27:00+00:00</td>\n",
       "      <td>2021-12-28 22:34:00+00:00</td>\n",
       "    </tr>\n",
       "    <tr>\n",
       "      <th>[2021-12-28 22:34:00, 2021-12-28 22:41:00)</th>\n",
       "      <td>2021-12-28 22:34:00+00:00</td>\n",
       "      <td>2021-12-28 22:41:00+00:00</td>\n",
       "    </tr>\n",
       "    <tr>\n",
       "      <th>[2021-12-28 22:41:00, 2021-12-28 22:48:00)</th>\n",
       "      <td>2021-12-28 22:41:00+00:00</td>\n",
       "      <td>2021-12-28 22:48:00+00:00</td>\n",
       "    </tr>\n",
       "    <tr>\n",
       "      <th>[2021-12-28 22:48:00, 2021-12-28 22:55:00)</th>\n",
       "      <td>2021-12-28 22:48:00+00:00</td>\n",
       "      <td>2021-12-28 22:55:00+00:00</td>\n",
       "    </tr>\n",
       "    <tr>\n",
       "      <th>[2021-12-28 22:55:00, 2021-12-28 23:00:00)</th>\n",
       "      <td>2021-12-28 22:55:00+00:00</td>\n",
       "      <td>2021-12-28 23:00:00+00:00</td>\n",
       "    </tr>\n",
       "  </tbody>\n",
       "</table>\n",
       "<p>618 rows × 2 columns</p>\n",
       "</div>"
      ],
      "text/plain": [
       "                                                           left_side  \\\n",
       "IntervalIndex                                                          \n",
       "[2021-12-22 23:00:00, 2021-12-22 23:07:00) 2021-12-22 23:00:00+00:00   \n",
       "[2021-12-22 23:07:00, 2021-12-22 23:14:00) 2021-12-22 23:07:00+00:00   \n",
       "[2021-12-22 23:14:00, 2021-12-22 23:21:00) 2021-12-22 23:14:00+00:00   \n",
       "[2021-12-22 23:21:00, 2021-12-22 23:28:00) 2021-12-22 23:21:00+00:00   \n",
       "[2021-12-22 23:28:00, 2021-12-22 23:35:00) 2021-12-22 23:28:00+00:00   \n",
       "...                                                              ...   \n",
       "[2021-12-28 22:27:00, 2021-12-28 22:34:00) 2021-12-28 22:27:00+00:00   \n",
       "[2021-12-28 22:34:00, 2021-12-28 22:41:00) 2021-12-28 22:34:00+00:00   \n",
       "[2021-12-28 22:41:00, 2021-12-28 22:48:00) 2021-12-28 22:41:00+00:00   \n",
       "[2021-12-28 22:48:00, 2021-12-28 22:55:00) 2021-12-28 22:48:00+00:00   \n",
       "[2021-12-28 22:55:00, 2021-12-28 23:00:00) 2021-12-28 22:55:00+00:00   \n",
       "\n",
       "                                                          right_side  \n",
       "IntervalIndex                                                         \n",
       "[2021-12-22 23:00:00, 2021-12-22 23:07:00) 2021-12-22 23:07:00+00:00  \n",
       "[2021-12-22 23:07:00, 2021-12-22 23:14:00) 2021-12-22 23:14:00+00:00  \n",
       "[2021-12-22 23:14:00, 2021-12-22 23:21:00) 2021-12-22 23:21:00+00:00  \n",
       "[2021-12-22 23:21:00, 2021-12-22 23:28:00) 2021-12-22 23:28:00+00:00  \n",
       "[2021-12-22 23:28:00, 2021-12-22 23:35:00) 2021-12-22 23:35:00+00:00  \n",
       "...                                                              ...  \n",
       "[2021-12-28 22:27:00, 2021-12-28 22:34:00) 2021-12-28 22:34:00+00:00  \n",
       "[2021-12-28 22:34:00, 2021-12-28 22:41:00) 2021-12-28 22:41:00+00:00  \n",
       "[2021-12-28 22:41:00, 2021-12-28 22:48:00) 2021-12-28 22:48:00+00:00  \n",
       "[2021-12-28 22:48:00, 2021-12-28 22:55:00) 2021-12-28 22:55:00+00:00  \n",
       "[2021-12-28 22:55:00, 2021-12-28 23:00:00) 2021-12-28 23:00:00+00:00  \n",
       "\n",
       "[618 rows x 2 columns]"
      ]
     },
     "execution_count": 48,
     "metadata": {},
     "output_type": "execute_result"
    }
   ],
   "source": [
    "show_as_df(cmes.trading_index(start, end, \"7T\", force_close=True))"
   ]
  },
  {
   "cell_type": "markdown",
   "metadata": {},
   "source": [
    "Overlapping indices are also a consideration for trading indexes output as `DatetimeIndex`, although only if the index is being `closed` on either the \"right\" side or \"both\" (it's not possible for a `DatetimeIndex` `closed` on the \"left\" side or \"neither\" to have overlapping indices as the right side is not defined, and hence cannot overlap the left side of the following indice).\n",
    "\n",
    "If the index is being `closed` on the \"right\" then the periods represented by the indices will overlap whenever they would overlap for the equivalent `IntervalIndex`. Only difference is that an `IndicesOverlapError` is raised rather than an `IntervalsOverlapError`."
   ]
  },
  {
   "cell_type": "code",
   "execution_count": null,
   "metadata": {},
   "outputs": [],
   "source": [
    "hkg.trading_index(start, start, \"106T\", closed=\"right\", intervals=False)"
   ]
  },
  {
   "cell_type": "markdown",
   "metadata": {},
   "source": [
    "```python\n",
    "---------------------------------------------------------------------------\n",
    "IndicesOverlapError                       Traceback (most recent call last)\n",
    "~\\AppData\\Local\\Temp/ipykernel_16260/3132062204.py in <module>\n",
    "----> 1 hkg.trading_index(start, start, \"106T\", closed=\"right\", intervals=False)\n",
    "\n",
    "IndicesOverlapError: Unable to create trading index as an indice would fall to the right of (later than) the subsequent indice. This can occur when the frequency is longer than a break or the frequency is longer than the gap between one session's close and the next session's open. Consider  passing `closed` as `left` or passing `force_close` and/or `force_break_close` as True.\n",
    "```"
   ]
  },
  {
   "cell_type": "markdown",
   "metadata": {},
   "source": [
    "If the trading index is being closed on \"both\" sides then the overlap will occur one minute earlier, as whilst this is on the limit with `closed` \"right\"..."
   ]
  },
  {
   "cell_type": "code",
   "execution_count": 50,
   "metadata": {},
   "outputs": [
    {
     "data": {
      "text/plain": [
       "DatetimeIndex(['2021-12-23 03:15:00+00:00', '2021-12-23 05:00:00+00:00',\n",
       "               '2021-12-23 06:45:00+00:00', '2021-12-23 08:30:00+00:00'],\n",
       "              dtype='datetime64[ns, UTC]', freq=None)"
      ]
     },
     "execution_count": 50,
     "metadata": {},
     "output_type": "execute_result"
    }
   ],
   "source": [
    "hkg.trading_index(start, start, \"105T\", closed=\"right\", intervals=False)"
   ]
  },
  {
   "cell_type": "markdown",
   "metadata": {},
   "source": [
    "It's over the limit if `closed` \"both\". This is because here 05:00 would be a minute of both the last implied period of the morning subsession and the first implied period of the afternoon subsession."
   ]
  },
  {
   "cell_type": "code",
   "execution_count": null,
   "metadata": {},
   "outputs": [],
   "source": [
    "hkg.trading_index(start, start, \"105T\", closed=\"both\", intervals=False)"
   ]
  },
  {
   "cell_type": "markdown",
   "metadata": {},
   "source": [
    "```python\n",
    "---------------------------------------------------------------------------\n",
    "IndicesOverlapError                       Traceback (most recent call last)\n",
    "~\\AppData\\Local\\Temp/ipykernel_16260/377205800.py in <module>\n",
    "----> 1 hkg.trading_index(start, start, \"105T\", closed=\"both\", intervals=False)\n",
    "\n",
    "IndicesOverlapError: Unable to create trading index as an indice would fall to the right of (later than) the subsequent indice. This can occur when the frequency is longer than a break or the frequency is longer than the gap between one session's close and the next session's open. Consider  passing `closed` as `left` or passing `force_close` and/or `force_break_close` as True.\n",
    "```"
   ]
  },
  {
   "cell_type": "markdown",
   "metadata": {},
   "source": [
    "As with an `IntervalIndex`, overlapping indices can be prevented by forcing the applicable close(s). Unlike `IntervalIndex`, `curtail_indices` is **not** available for `DatetimeIndex`.\n",
    "\n",
    "Although `curtail_overlaps` is unavailable, a similar effect can be achieved by passing `closed` as \"left\" instead of \"both\" or \"neither\" instead of \"right\" (the effect isn't exactly the same as `curtail_overlaps` allows for curtailing only overlapping indices, whilst changing closed to \"left\" or \"neither\" has the effect of losing the right side of the last implied period of _all_ sessions and subsessions, regardless of whether they would overlap or not)."
   ]
  }
 ],
 "metadata": {
  "kernelspec": {
   "display_name": "xcals 3.7",
   "language": "python",
   "name": "xcals"
  },
  "language_info": {
   "codemirror_mode": {
    "name": "ipython",
    "version": 3
   },
   "file_extension": ".py",
   "mimetype": "text/x-python",
   "name": "python",
   "nbconvert_exporter": "python",
   "pygments_lexer": "ipython3",
   "version": "3.7.0"
  },
  "widgets": {
   "application/vnd.jupyter.widget-state+json": {
    "state": {},
    "version_major": 2,
    "version_minor": 0
   }
  }
 },
 "nbformat": 4,
 "nbformat_minor": 4
}
